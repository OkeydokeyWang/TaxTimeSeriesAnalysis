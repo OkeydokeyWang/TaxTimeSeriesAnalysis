{
 "cells": [
  {
   "cell_type": "code",
   "execution_count": 1,
   "id": "general-stomach",
   "metadata": {},
   "outputs": [],
   "source": [
    "import dataloader\n",
    "import sys\n",
    "import time\n",
    "import pandas as pd\n",
    "import numpy as np\n",
    "import datetime\n",
    "from matplotlib import pyplot as plt\n",
    "\n",
    "from sklearn.preprocessing import MinMaxScaler\n",
    "from sklearn.model_selection import KFold\n",
    "from sklearn import neighbors\n",
    "\n",
    "from matplotlib import pyplot as plt\n",
    "plt.rcParams[\"figure.figsize\"] = (20,10)\n",
    "\n",
    "%load_ext autoreload\n",
    "%autoreload 2\n",
    "\n",
    "path = \"../independendt projecct/SNE.csv\"\n",
    "date = datetime.datetime(2019,9,30)\n",
    "count = 1200\n",
    "# We will use the previous 60 days as features\n",
    "history_size = 60"
   ]
  },
  {
   "cell_type": "code",
   "execution_count": 2,
   "id": "preceding-definition",
   "metadata": {},
   "outputs": [],
   "source": [
    "# Compute MAE\n",
    "def mae(y_hat, y):\n",
    "    # mean absolute error\n",
    "    return np.abs(y_hat - y).mean()\n",
    "\n",
    "def rmse(y_hat, y):\n",
    "    # root mean squared error\n",
    "    return np.sqrt(np.mean(np.power((y-y_hat),2)))"
   ]
  },
  {
   "cell_type": "code",
   "execution_count": 3,
   "id": "impaired-democracy",
   "metadata": {
    "scrolled": true
   },
   "outputs": [
    {
     "name": "stdout",
     "output_type": "stream",
     "text": [
      "(1258, 7)\n",
      "(1255, 7)\n",
      "(1255, 7)\n",
      "(1200, 7)\n"
     ]
    }
   ],
   "source": [
    "df = dataloader.load_data_up_to_date(path, date, count)"
   ]
  },
  {
   "cell_type": "code",
   "execution_count": 4,
   "id": "addressed-lodge",
   "metadata": {},
   "outputs": [
    {
     "data": {
      "text/plain": [
       "(1200, 1)"
      ]
     },
     "execution_count": 4,
     "metadata": {},
     "output_type": "execute_result"
    }
   ],
   "source": [
    "sony_closing_all = df['Close'].to_numpy()\n",
    "# reshape to 1200 x 1 matrix\n",
    "sony_closing_all = np.reshape(sony_closing_all, (sony_closing_all.shape[0], -1))\n",
    "sony_closing_all.shape"
   ]
  },
  {
   "cell_type": "code",
   "execution_count": 5,
   "id": "placed-intranet",
   "metadata": {},
   "outputs": [],
   "source": [
    "#converting prices to be between 0 and 1\n",
    "scaler = MinMaxScaler(feature_range=(0, 1))\n",
    "scaled_data = scaler.fit_transform(sony_closing_all)\n",
    "train = scaled_data[:1000,:]\n",
    "test = scaled_data[1000:, :]"
   ]
  },
  {
   "cell_type": "code",
   "execution_count": 6,
   "id": "informed-colonial",
   "metadata": {},
   "outputs": [
    {
     "name": "stdout",
     "output_type": "stream",
     "text": [
      "(940, 60)\n",
      "(200, 60)\n"
     ]
    }
   ],
   "source": [
    "train_x, train_y = [], []\n",
    "test_x, test_y = [], []\n",
    "for i in range(history_size,len(train)):\n",
    "    train_x.append(scaled_data[i-history_size:i,0])\n",
    "    train_y.append(scaled_data[i,0])\n",
    "train_x, train_y = np.array(train_x), np.array(train_y)\n",
    "\n",
    "train_x = np.reshape(train_x, (train_x.shape[0],train_x.shape[1]))\n",
    "print(train_x.shape)\n",
    "\n",
    "for i in range(len(train),len(scaled_data)):\n",
    "    test_x.append(scaled_data[i-history_size:i,0])\n",
    "    test_y.append(scaled_data[i,0])\n",
    "test_x, test_y = np.array(test_x), np.array(test_y)\n",
    "\n",
    "test_x = np.reshape(test_x, (test_x.shape[0],test_x.shape[1]))\n",
    "print(test_x.shape)\n"
   ]
  },
  {
   "cell_type": "code",
   "execution_count": 7,
   "id": "studied-salvation",
   "metadata": {},
   "outputs": [
    {
     "ename": "NameError",
     "evalue": "name 'compute_error' is not defined",
     "output_type": "error",
     "traceback": [
      "\u001b[0;31m---------------------------------------------------------------------------\u001b[0m",
      "\u001b[0;31mNameError\u001b[0m                                 Traceback (most recent call last)",
      "\u001b[0;32m<ipython-input-7-fad1ce2c68a7>\u001b[0m in \u001b[0;36m<module>\u001b[0;34m\u001b[0m\n\u001b[1;32m     22\u001b[0m         \u001b[0my_hat\u001b[0m \u001b[0;34m=\u001b[0m \u001b[0mNNRegressor\u001b[0m\u001b[0;34m.\u001b[0m\u001b[0mfit\u001b[0m\u001b[0;34m(\u001b[0m\u001b[0mX_train\u001b[0m\u001b[0;34m,\u001b[0m \u001b[0my_train\u001b[0m\u001b[0;34m)\u001b[0m\u001b[0;34m.\u001b[0m\u001b[0mpredict\u001b[0m\u001b[0;34m(\u001b[0m\u001b[0mX_val\u001b[0m\u001b[0;34m)\u001b[0m\u001b[0;34m\u001b[0m\u001b[0;34m\u001b[0m\u001b[0m\n\u001b[1;32m     23\u001b[0m     \u001b[0;31m#     print(y_hat)\u001b[0m\u001b[0;34m\u001b[0m\u001b[0;34m\u001b[0m\u001b[0;34m\u001b[0m\u001b[0m\n\u001b[0;32m---> 24\u001b[0;31m         \u001b[0my_err\u001b[0m\u001b[0;34m.\u001b[0m\u001b[0mappend\u001b[0m\u001b[0;34m(\u001b[0m\u001b[0mcompute_error\u001b[0m\u001b[0;34m(\u001b[0m\u001b[0my_hat\u001b[0m\u001b[0;34m,\u001b[0m \u001b[0my_val\u001b[0m\u001b[0;34m)\u001b[0m\u001b[0;34m)\u001b[0m\u001b[0;34m\u001b[0m\u001b[0;34m\u001b[0m\u001b[0m\n\u001b[0m\u001b[1;32m     25\u001b[0m \u001b[0;34m\u001b[0m\u001b[0m\n\u001b[1;32m     26\u001b[0m     \u001b[0mend\u001b[0m \u001b[0;34m=\u001b[0m \u001b[0mtime\u001b[0m\u001b[0;34m.\u001b[0m\u001b[0mtime\u001b[0m\u001b[0;34m(\u001b[0m\u001b[0;34m)\u001b[0m\u001b[0;34m\u001b[0m\u001b[0;34m\u001b[0m\u001b[0m\n",
      "\u001b[0;31mNameError\u001b[0m: name 'compute_error' is not defined"
     ]
    }
   ],
   "source": [
    "N_NEIGHBORS = [3, 5, 10, 20, 25]\n",
    "\n",
    "# Vars to store results\n",
    "cval_errs = {}\n",
    "train_time = {}\n",
    "best_af_nn_regressor = None\n",
    "best_err = sys.maxsize\n",
    "\n",
    "for nn in N_NEIGHBORS:\n",
    "    kf = KFold(n_splits=5, random_state=None, shuffle=False)\n",
    "    y_err = []\n",
    "\n",
    "    start = time.time()\n",
    "\n",
    "    # Cross Validaiton\n",
    "    for train_index, val_index in kf.split(train_x):\n",
    "    #     print(\"TRAIN:\", train_index, \"VAL:\", val_index)\n",
    "        X_train, X_val = train_x[train_index], train_x[val_index]\n",
    "        y_train, y_val = train_y[train_index], train_y[val_index]\n",
    "\n",
    "        NNRegressor = neighbors.KNeighborsRegressor(n_neighbors=nn)\n",
    "        y_hat = NNRegressor.fit(X_train, y_train).predict(X_val)\n",
    "    #     print(y_hat)\n",
    "        y_err.append(mae(y_hat, y_val))\n",
    "\n",
    "    end = time.time()\n",
    "\n",
    "    print(str(nn), \"mean val MAE:\", np.mean(y_err))\n",
    "    print(\"Time lapsed\", str((end - start)*1000))\n",
    "\n",
    "    # add to dict\n",
    "    cval_errs[str(nn)] = np.mean(y_err)\n",
    "    train_time[str(nn)] = (end - start)*1000\n",
    "    if np.mean(y_err) < best_err:\n",
    "        best_af_nn_regressor = neighbors.KNeighborsRegressor(n_neighbors=nn)\n",
    "        best_af_nn_regressor = best_af_nn_regressor.fit(train_x, train_y)\n",
    "        best_err = np.mean(y_err)\n",
    "\n",
    "print(best_af_nn_regressor, best_err)"
   ]
  },
  {
   "cell_type": "code",
   "execution_count": null,
   "id": "contrary-secretary",
   "metadata": {},
   "outputs": [],
   "source": [
    "best_af_nn_regressor = best_af_nn_regressor.fit(train_x, train_y)\n",
    "y_hat = best_af_nn_regressor.predict(test_x)\n",
    "plt.plot(y_hat[:], label=\"estmated SP\")\n",
    "plt.plot(test_y[:], label=\"real SP\")\n",
    "plt.legend(bbox_to_anchor=(0., 1.02, 1., .102), loc='lower left',\n",
    "           ncol=2, mode=\"expand\", borderaxespad=0.)\n",
    "plt.show()"
   ]
  },
  {
   "cell_type": "code",
   "execution_count": null,
   "id": "integral-creek",
   "metadata": {},
   "outputs": [],
   "source": [
    "print(\"MAE:  \", mae(y_hat, test_y))\n",
    "print(\"RMSE: \", rmse(y_hat, test_y))"
   ]
  },
  {
   "cell_type": "code",
   "execution_count": null,
   "id": "cathedral-poster",
   "metadata": {},
   "outputs": [],
   "source": []
  }
 ],
 "metadata": {
  "kernelspec": {
   "display_name": "tensorflow",
   "language": "python",
   "name": "tensorflow"
  },
  "language_info": {
   "codemirror_mode": {
    "name": "ipython",
    "version": 3
   },
   "file_extension": ".py",
   "mimetype": "text/x-python",
   "name": "python",
   "nbconvert_exporter": "python",
   "pygments_lexer": "ipython3",
   "version": "3.8.5"
  }
 },
 "nbformat": 4,
 "nbformat_minor": 5
}
