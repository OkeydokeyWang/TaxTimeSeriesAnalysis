{
 "cells": [
  {
   "cell_type": "code",
   "execution_count": 1,
   "id": "varying-aerospace",
   "metadata": {},
   "outputs": [],
   "source": [
    "import dataloader\n",
    "import utils\n",
    "import linear\n",
    "\n",
    "import datetime\n",
    "import numpy as np\n",
    "from matplotlib import pyplot as plt\n",
    "\n",
    "plt.rcParams[\"figure.figsize\"] = (20,10)\n",
    "\n",
    "%load_ext autoreload\n",
    "%autoreload 2\n",
    "\n",
    "# Model Data range\n",
    "date = datetime.datetime(2021,3,12)\n",
    "# Total entry count\n",
    "count = 220\n",
    "training_count = 200\n",
    "\n",
    "history_size = 1\n"
   ]
  },
  {
   "cell_type": "code",
   "execution_count": 2,
   "id": "backed-bruce",
   "metadata": {},
   "outputs": [
    {
     "name": "stdout",
     "output_type": "stream",
     "text": [
      "(365, 2)\n",
      "(260, 2)\n",
      "(254, 2)\n",
      "(254, 2)\n",
      "(220, 2)\n",
      "(199, 1, 1)\n",
      "(20, 1, 1)\n",
      "(199, 1)\n",
      "(20, 1)\n"
     ]
    }
   ],
   "source": [
    "path = \"./Data/BTC.csv\"\n",
    "# Load data, with open price.\n",
    "train_x, train_y, test_x, test_y = utils.get_train_and_test_set(\n",
    "    path, date, count, history_size, training_count, column=\"market-price\"\n",
    ")\n",
    "train_x = np.resize(train_x, (training_count - history_size, history_size))\n",
    "test_x = np.resize(test_x, (count - training_count, history_size))\n",
    "print(train_x.shape)\n",
    "print(test_x.shape)\n"
   ]
  },
  {
   "cell_type": "code",
   "execution_count": 3,
   "id": "accepting-ordinary",
   "metadata": {},
   "outputs": [
    {
     "name": "stdout",
     "output_type": "stream",
     "text": [
      "(251, 7)\n",
      "(251, 7)\n",
      "(250, 7)\n",
      "(250, 7)\n",
      "(220, 7)\n",
      "(199, 1, 1)\n",
      "(20, 1, 1)\n",
      "(199, 2)\n",
      "(20, 2)\n"
     ]
    }
   ],
   "source": [
    "path = \"./Data/CL=F.csv\"\n",
    "# Load data, with yesterday close price.\n",
    "train_x0, train_y0, test_x0, test_y0 = utils.get_train_and_test_set(\n",
    "    path, date, count, history_size, training_count\n",
    ")\n",
    "train_x0 = np.resize(train_x, (training_count - history_size, history_size))\n",
    "test_x0 = np.resize(test_x, (count - training_count, history_size))\n",
    "train_x = np.hstack((train_x, train_x0))\n",
    "test_x = np.hstack((test_x, test_x0))\n",
    "print(train_x.shape)\n",
    "print(test_x.shape)\n"
   ]
  },
  {
   "cell_type": "code",
   "execution_count": 4,
   "id": "available-belgium",
   "metadata": {},
   "outputs": [
    {
     "name": "stdout",
     "output_type": "stream",
     "text": [
      "(251, 7)\n",
      "(251, 7)\n",
      "(250, 7)\n",
      "(250, 7)\n",
      "(220, 7)\n",
      "(199, 1, 1)\n",
      "(20, 1, 1)\n",
      "(199, 3)\n",
      "(20, 3)\n"
     ]
    }
   ],
   "source": [
    "path = \"./Data/CL=F.csv\"\n",
    "# Load data, with yesterday close price.\n",
    "train_x0, train_y0, test_x0, test_y0 = utils.get_train_and_test_set(\n",
    "    path, date, count, history_size, training_count, column=\"Volume\"\n",
    ")\n",
    "train_x0 = np.resize(train_x, (training_count - history_size, history_size))\n",
    "test_x0 = np.resize(test_x, (count - training_count, history_size))\n",
    "train_x = np.hstack((train_x, train_x0))\n",
    "test_x = np.hstack((test_x, test_x0))\n",
    "print(train_x.shape)\n",
    "print(test_x.shape)\n"
   ]
  },
  {
   "cell_type": "code",
   "execution_count": 5,
   "id": "executed-tourist",
   "metadata": {},
   "outputs": [
    {
     "name": "stdout",
     "output_type": "stream",
     "text": [
      "(251, 7)\n",
      "(251, 7)\n",
      "(250, 7)\n",
      "(250, 7)\n",
      "(220, 7)\n",
      "(199, 1, 1)\n",
      "(20, 1, 1)\n",
      "(199, 4)\n",
      "(20, 4)\n"
     ]
    }
   ],
   "source": [
    "path = \"./Data/GBBEF.csv\"\n",
    "# Load data, with yesterday close price.\n",
    "train_x0, train_y0, test_x0, test_y0 = utils.get_train_and_test_set(\n",
    "    path, date, count, history_size, training_count\n",
    ")\n",
    "train_x0 = np.resize(train_x, (training_count - history_size, history_size))\n",
    "test_x0 = np.resize(test_x, (count - training_count, history_size))\n",
    "train_x = np.hstack((train_x, train_x0))\n",
    "test_x = np.hstack((test_x, test_x0))\n",
    "print(train_x.shape)\n",
    "print(test_x.shape)\n"
   ]
  },
  {
   "cell_type": "code",
   "execution_count": 6,
   "id": "elementary-rally",
   "metadata": {},
   "outputs": [
    {
     "name": "stdout",
     "output_type": "stream",
     "text": [
      "(251, 7)\n",
      "(251, 7)\n",
      "(250, 7)\n",
      "(250, 7)\n",
      "(220, 7)\n",
      "(199, 1, 1)\n",
      "(20, 1, 1)\n",
      "(199, 5)\n",
      "(20, 5)\n"
     ]
    }
   ],
   "source": [
    "path = \"./Data/GBBEF.csv\"\n",
    "# Load data, with yesterday close price.\n",
    "train_x0, train_y0, test_x0, test_y0 = utils.get_train_and_test_set(\n",
    "    path, date, count, history_size, training_count, column=\"Volume\"\n",
    ")\n",
    "train_x0 = np.resize(train_x, (training_count - history_size, history_size))\n",
    "test_x0 = np.resize(test_x, (count - training_count, history_size))\n",
    "train_x = np.hstack((train_x, train_x0))\n",
    "test_x = np.hstack((test_x, test_x0))\n",
    "print(train_x.shape)\n",
    "print(test_x.shape)\n"
   ]
  },
  {
   "cell_type": "code",
   "execution_count": 7,
   "id": "manual-printing",
   "metadata": {},
   "outputs": [
    {
     "name": "stdout",
     "output_type": "stream",
     "text": [
      "(251, 7)\n",
      "(251, 7)\n",
      "(250, 7)\n",
      "(250, 7)\n",
      "(220, 7)\n",
      "(199, 1, 1)\n",
      "(20, 1, 1)\n",
      "(199, 6)\n",
      "(20, 6)\n"
     ]
    }
   ],
   "source": [
    "path = \"./Data/GC=F.csv\"\n",
    "# Load data, with yesterday close price.\n",
    "train_x0, train_y0, test_x0, test_y0 = utils.get_train_and_test_set(\n",
    "    path, date, count, history_size, training_count\n",
    ")\n",
    "train_x0 = np.resize(train_x, (training_count - history_size, history_size))\n",
    "test_x0 = np.resize(test_x, (count - training_count, history_size))\n",
    "train_x = np.hstack((train_x, train_x0))\n",
    "test_x = np.hstack((test_x, test_x0))\n",
    "print(train_x.shape)\n",
    "print(test_x.shape)\n"
   ]
  },
  {
   "cell_type": "code",
   "execution_count": 8,
   "id": "affecting-designer",
   "metadata": {},
   "outputs": [
    {
     "name": "stdout",
     "output_type": "stream",
     "text": [
      "(251, 7)\n",
      "(251, 7)\n",
      "(250, 7)\n",
      "(250, 7)\n",
      "(220, 7)\n",
      "(199, 1, 1)\n",
      "(20, 1, 1)\n",
      "(199, 7)\n",
      "(20, 7)\n"
     ]
    }
   ],
   "source": [
    "path = \"./Data/GC=F.csv\"\n",
    "# Load data, with yesterday close price.\n",
    "train_x0, train_y0, test_x0, test_y0 = utils.get_train_and_test_set(\n",
    "    path, date, count, history_size, training_count, column=\"Volume\"\n",
    ")\n",
    "train_x0 = np.resize(train_x, (training_count - history_size, history_size))\n",
    "test_x0 = np.resize(test_x, (count - training_count, history_size))\n",
    "train_x = np.hstack((train_x, train_x0))\n",
    "test_x = np.hstack((test_x, test_x0))\n",
    "print(train_x.shape)\n",
    "print(test_x.shape)\n"
   ]
  },
  {
   "cell_type": "code",
   "execution_count": 9,
   "id": "interracial-representation",
   "metadata": {},
   "outputs": [],
   "source": [
    "# AMZN"
   ]
  },
  {
   "cell_type": "code",
   "execution_count": 10,
   "id": "prompt-gentleman",
   "metadata": {},
   "outputs": [
    {
     "name": "stdout",
     "output_type": "stream",
     "text": [
      "(1258, 7)\n",
      "(1258, 7)\n",
      "(1257, 7)\n",
      "(1257, 7)\n",
      "(220, 7)\n",
      "(199, 1, 1)\n",
      "(20, 1, 1)\n",
      "(199, 7)\n",
      "(20, 7)\n"
     ]
    }
   ],
   "source": [
    "path = \"./Data/AMZN2021.csv\"\n",
    "# Load data, with yesterday close price.\n",
    "train_x0, train_y0, test_x0, test_y0 = utils.get_train_and_test_set(\n",
    "    path, date, count, history_size, training_count\n",
    ")\n",
    "train_x0 = np.resize(train_x, (training_count - history_size, history_size))\n",
    "test_x0 = np.resize(test_x, (count - training_count, history_size))\n",
    "train_x1 = np.hstack((train_x, train_x0))\n",
    "test_x1 = np.hstack((test_x, test_x0))\n",
    "print(train_x.shape)\n",
    "print(test_x.shape)\n"
   ]
  },
  {
   "cell_type": "code",
   "execution_count": 11,
   "id": "fifth-economy",
   "metadata": {},
   "outputs": [
    {
     "name": "stdout",
     "output_type": "stream",
     "text": [
      "(1258, 7)\n",
      "(1258, 7)\n",
      "(1258, 7)\n",
      "(1258, 7)\n",
      "(220, 7)\n",
      "(199, 1, 1)\n",
      "(20, 1, 1)\n"
     ]
    }
   ],
   "source": [
    "path = \"./Data/AMZN2021.csv\"\n",
    "date = datetime.datetime(2021,3,13)\n",
    "# Load data, with today close price as ground truth.\n",
    "_, train_y, _, test_y = utils.get_train_and_test_set(\n",
    "    path, date, count, history_size, training_count\n",
    ")\n"
   ]
  },
  {
   "cell_type": "code",
   "execution_count": 12,
   "id": "pacific-beijing",
   "metadata": {},
   "outputs": [
    {
     "name": "stdout",
     "output_type": "stream",
     "text": [
      "1e-06 mean val RMSE: 0.3640959148182924\n",
      "Time lapsed 28.220415115356445\n",
      "1e-05 mean val RMSE: 0.36407581647303877\n",
      "Time lapsed 5.599260330200195\n",
      "0.0001 mean val RMSE: 0.3638767121779946\n",
      "Time lapsed 4.192352294921875\n",
      "0.001 mean val RMSE: 0.3620548363070286\n",
      "Time lapsed 3.4563541412353516\n",
      "0.01 mean val RMSE: 0.3523607020145133\n",
      "Time lapsed 3.457307815551758\n",
      "0.1 mean val RMSE: 0.3345230966456379\n",
      "Time lapsed 2.565145492553711\n",
      "1 mean val RMSE: 0.2789483828374434\n",
      "Time lapsed 2.415180206298828\n",
      "1e-06 mean val RMSE: 0.36420740138141916\n",
      "Time lapsed 2.5169849395751953\n",
      "1e-05 mean val RMSE: 0.36494577973538556\n",
      "Time lapsed 2.470731735229492\n",
      "0.0001 mean val RMSE: 0.35857707057555854\n",
      "Time lapsed 2.656698226928711\n",
      "0.001 mean val RMSE: 0.3301525524373897\n",
      "Time lapsed 2.3946762084960938\n",
      "0.01 mean val RMSE: 0.2643287657170082\n",
      "Time lapsed 2.367258071899414\n",
      "0.1 mean val RMSE: 0.24956392515006565\n",
      "Time lapsed 2.1209716796875\n",
      "1 mean val RMSE: 0.24956392515006565\n",
      "Time lapsed 2.140522003173828\n"
     ]
    }
   ],
   "source": [
    "\n",
    "ALPHAS = [10**-6, 10**-5, 10**-4, 10**-3, 10**-2, 10**-1, 1]  # Model Smooth Constant\n",
    "regressor, best_err = linear.linear_regression_model_selection(train_x1, train_y, ALPHAS)"
   ]
  },
  {
   "cell_type": "code",
   "execution_count": 13,
   "id": "viral-option",
   "metadata": {
    "scrolled": false
   },
   "outputs": [
    {
     "data": {
      "image/png": "[encoded data removed]",
      "text/plain": [
       "<Figure size 1440x720 with 1 Axes>"
      ]
     },
     "metadata": {
      "needs_background": "light"
     },
     "output_type": "display_data"
    }
   ],
   "source": [
    "y_hat = regressor.fit(train_x1, train_y).predict(test_x1)\n",
    "plt.plot(y_hat[:], label=\"estmated\")\n",
    "plt.plot(test_y[:], label=\"real\")\n",
    "plt.legend(bbox_to_anchor=(0., 1.02, 1., .102), loc='lower left',\n",
    "           ncol=2, mode=\"expand\", borderaxespad=0.)\n",
    "plt.show()"
   ]
  },
  {
   "cell_type": "code",
   "execution_count": 14,
   "id": "professional-syracuse",
   "metadata": {},
   "outputs": [],
   "source": [
    "# SONY"
   ]
  },
  {
   "cell_type": "code",
   "execution_count": 15,
   "id": "minor-enemy",
   "metadata": {},
   "outputs": [
    {
     "name": "stdout",
     "output_type": "stream",
     "text": [
      "(1258, 7)\n",
      "(1258, 7)\n",
      "(1258, 7)\n",
      "(1258, 7)\n",
      "(220, 7)\n",
      "(199, 1, 1)\n",
      "(20, 1, 1)\n",
      "(199, 7)\n",
      "(20, 7)\n"
     ]
    }
   ],
   "source": [
    "path = \"./Data/SONY2021.csv\"\n",
    "# Load data, with yesterday close price.\n",
    "train_x0, train_y0, test_x0, test_y0 = utils.get_train_and_test_set(\n",
    "    path, date, count, history_size, training_count\n",
    ")\n",
    "train_x0 = np.resize(train_x, (training_count - history_size, history_size))\n",
    "test_x0 = np.resize(test_x, (count - training_count, history_size))\n",
    "train_x1 = np.hstack((train_x, train_x0))\n",
    "test_x1 = np.hstack((test_x, test_x0))\n",
    "print(train_x.shape)\n",
    "print(test_x.shape)\n"
   ]
  },
  {
   "cell_type": "code",
   "execution_count": 16,
   "id": "national-helen",
   "metadata": {},
   "outputs": [
    {
     "name": "stdout",
     "output_type": "stream",
     "text": [
      "(1258, 7)\n",
      "(1258, 7)\n",
      "(1258, 7)\n",
      "(1258, 7)\n",
      "(220, 7)\n",
      "(199, 1, 1)\n",
      "(20, 1, 1)\n"
     ]
    }
   ],
   "source": [
    "path = \"./Data/SONY2021.csv\"\n",
    "date = datetime.datetime(2021,3,13)\n",
    "# Load data, with today close price as ground truth.\n",
    "_, train_y, _, test_y = utils.get_train_and_test_set(\n",
    "    path, date, count, history_size, training_count\n",
    ")\n"
   ]
  },
  {
   "cell_type": "code",
   "execution_count": 17,
   "id": "occupied-midnight",
   "metadata": {},
   "outputs": [
    {
     "name": "stdout",
     "output_type": "stream",
     "text": [
      "1e-06 mean val RMSE: 0.2306493558709061\n",
      "Time lapsed 2.4023056030273438\n",
      "1e-05 mean val RMSE: 0.23063010887689495\n",
      "Time lapsed 2.1080970764160156\n",
      "0.0001 mean val RMSE: 0.23043884058984254\n",
      "Time lapsed 2.177000045776367\n",
      "0.001 mean val RMSE: 0.2286355174331109\n",
      "Time lapsed 2.0644664764404297\n",
      "0.01 mean val RMSE: 0.2165271888488351\n",
      "Time lapsed 2.0325183868408203\n",
      "0.1 mean val RMSE: 0.18346670540510585\n",
      "Time lapsed 2.036571502685547\n",
      "1 mean val RMSE: 0.11777331693624497\n",
      "Time lapsed 2.043008804321289\n",
      "1e-06 mean val RMSE: 0.23044279977135887\n",
      "Time lapsed 2.197742462158203\n",
      "1e-05 mean val RMSE: 0.22871005569131536\n",
      "Time lapsed 2.4437904357910156\n",
      "0.0001 mean val RMSE: 0.21351225580788885\n",
      "Time lapsed 2.4213790893554688\n",
      "0.001 mean val RMSE: 0.17394926977266692\n",
      "Time lapsed 2.360820770263672\n",
      "0.01 mean val RMSE: 0.19329497516669586\n",
      "Time lapsed 2.359628677368164\n",
      "0.1 mean val RMSE: 0.25723211366062093\n",
      "Time lapsed 2.349376678466797\n",
      "1 mean val RMSE: 0.25723211366062093\n",
      "Time lapsed 2.380847930908203\n"
     ]
    }
   ],
   "source": [
    "\n",
    "ALPHAS = [10**-6, 10**-5, 10**-4, 10**-3, 10**-2, 10**-1, 1]  # Model Smooth Constant\n",
    "regressor, best_err = linear.linear_regression_model_selection(train_x1, train_y, ALPHAS)"
   ]
  },
  {
   "cell_type": "code",
   "execution_count": 18,
   "id": "impossible-basis",
   "metadata": {
    "scrolled": false
   },
   "outputs": [
    {
     "data": {
      "image/png": "[encoded data removed]",
      "text/plain": [
       "<Figure size 1440x720 with 1 Axes>"
      ]
     },
     "metadata": {
      "needs_background": "light"
     },
     "output_type": "display_data"
    }
   ],
   "source": [
    "y_hat = regressor.fit(train_x1, train_y).predict(test_x1)\n",
    "plt.plot(y_hat[:], label=\"estmated\")\n",
    "plt.plot(test_y[:], label=\"real\")\n",
    "plt.legend(bbox_to_anchor=(0., 1.02, 1., .102), loc='lower left',\n",
    "           ncol=2, mode=\"expand\", borderaxespad=0.)\n",
    "plt.show()"
   ]
  },
  {
   "cell_type": "code",
   "execution_count": 19,
   "id": "pressing-chapter",
   "metadata": {},
   "outputs": [],
   "source": [
    "# IBIO"
   ]
  },
  {
   "cell_type": "code",
   "execution_count": 20,
   "id": "behavioral-intent",
   "metadata": {},
   "outputs": [
    {
     "name": "stdout",
     "output_type": "stream",
     "text": [
      "(1258, 7)\n",
      "(1258, 7)\n",
      "(1258, 7)\n",
      "(1258, 7)\n",
      "(220, 7)\n",
      "(199, 1, 1)\n",
      "(20, 1, 1)\n",
      "(199, 7)\n",
      "(20, 7)\n"
     ]
    }
   ],
   "source": [
    "path = \"./Data/IBIO2021.csv\"\n",
    "# Load data, with yesterday close price.\n",
    "train_x0, train_y0, test_x0, test_y0 = utils.get_train_and_test_set(\n",
    "    path, date, count, history_size, training_count\n",
    ")\n",
    "train_x0 = np.resize(train_x, (training_count - history_size, history_size))\n",
    "test_x0 = np.resize(test_x, (count - training_count, history_size))\n",
    "train_x1 = np.hstack((train_x, train_x0))\n",
    "test_x1 = np.hstack((test_x, test_x0))\n",
    "print(train_x.shape)\n",
    "print(test_x.shape)\n"
   ]
  },
  {
   "cell_type": "code",
   "execution_count": 21,
   "id": "sublime-dressing",
   "metadata": {},
   "outputs": [
    {
     "name": "stdout",
     "output_type": "stream",
     "text": [
      "(1258, 7)\n",
      "(1258, 7)\n",
      "(1258, 7)\n",
      "(1258, 7)\n",
      "(220, 7)\n",
      "(199, 1, 1)\n",
      "(20, 1, 1)\n"
     ]
    }
   ],
   "source": [
    "path = \"./Data/IBIO2021.csv\"\n",
    "date = datetime.datetime(2021,3,13)\n",
    "# Load data, with today close price as ground truth.\n",
    "_, train_y, _, test_y = utils.get_train_and_test_set(\n",
    "    path, date, count, history_size, training_count\n",
    ")\n"
   ]
  },
  {
   "cell_type": "code",
   "execution_count": 22,
   "id": "broadband-abuse",
   "metadata": {},
   "outputs": [
    {
     "name": "stdout",
     "output_type": "stream",
     "text": [
      "1e-06 mean val RMSE: 0.19919353009780147\n",
      "Time lapsed 2.554178237915039\n",
      "1e-05 mean val RMSE: 0.19914662463253707\n",
      "Time lapsed 2.3360252380371094\n",
      "0.0001 mean val RMSE: 0.19868233495521087\n",
      "Time lapsed 2.1398067474365234\n",
      "0.001 mean val RMSE: 0.19446845059508205\n",
      "Time lapsed 2.028226852416992\n",
      "0.01 mean val RMSE: 0.17373017249958306\n",
      "Time lapsed 2.036571502685547\n",
      "0.1 mean val RMSE: 0.17168317085490686\n",
      "Time lapsed 2.0248889923095703\n",
      "1 mean val RMSE: 0.16743276718988115\n",
      "Time lapsed 2.045869827270508\n",
      "1e-06 mean val RMSE: 0.19897984624996712\n",
      "Time lapsed 2.250194549560547\n",
      "1e-05 mean val RMSE: 0.19690245022431818\n",
      "Time lapsed 2.424478530883789\n",
      "0.0001 mean val RMSE: 0.18491500517113849\n",
      "Time lapsed 2.4564266204833984\n",
      "0.001 mean val RMSE: 0.17173103982026597\n",
      "Time lapsed 2.387523651123047\n",
      "0.01 mean val RMSE: 0.1664844535948199\n",
      "Time lapsed 2.3622512817382812\n",
      "0.1 mean val RMSE: 0.16257496467466254\n",
      "Time lapsed 2.125978469848633\n",
      "1 mean val RMSE: 0.16257496467466254\n",
      "Time lapsed 2.1369457244873047\n"
     ]
    }
   ],
   "source": [
    "\n",
    "ALPHAS = [10**-6, 10**-5, 10**-4, 10**-3, 10**-2, 10**-1, 1]  # Model Smooth Constant\n",
    "regressor, best_err = linear.linear_regression_model_selection(train_x1, train_y, ALPHAS)"
   ]
  },
  {
   "cell_type": "code",
   "execution_count": 23,
   "id": "alleged-south",
   "metadata": {
    "scrolled": false
   },
   "outputs": [
    {
     "data": {
      "image/png": "[encoded data removed]",
      "text/plain": [
       "<Figure size 1440x720 with 1 Axes>"
      ]
     },
     "metadata": {
      "needs_background": "light"
     },
     "output_type": "display_data"
    }
   ],
   "source": [
    "y_hat = regressor.fit(train_x1, train_y).predict(test_x1)\n",
    "plt.plot(y_hat[:], label=\"estmated\")\n",
    "plt.plot(test_y[:], label=\"real\")\n",
    "plt.legend(bbox_to_anchor=(0., 1.02, 1., .102), loc='lower left',\n",
    "           ncol=2, mode=\"expand\", borderaxespad=0.)\n",
    "plt.show()"
   ]
  }
 ],
 "metadata": {
  "kernelspec": {
   "display_name": "tensorflow",
   "language": "python",
   "name": "tensorflow"
  },
  "language_info": {
   "codemirror_mode": {
    "name": "ipython",
    "version": 3
   },
   "file_extension": ".py",
   "mimetype": "text/x-python",
   "name": "python",
   "nbconvert_exporter": "python",
   "pygments_lexer": "ipython3",
   "version": "3.8.5"
  }
 },
 "nbformat": 4,
 "nbformat_minor": 5
}
