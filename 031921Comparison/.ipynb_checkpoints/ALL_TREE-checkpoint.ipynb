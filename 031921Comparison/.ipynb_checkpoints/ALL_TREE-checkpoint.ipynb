{
 "cells": [
  {
   "cell_type": "code",
   "execution_count": 1,
   "id": "varying-aerospace",
   "metadata": {},
   "outputs": [],
   "source": [
    "import dataloader\n",
    "import utils\n",
    "import dtree\n",
    "\n",
    "import datetime\n",
    "import numpy as np\n",
    "from matplotlib import pyplot as plt\n",
    "\n",
    "plt.rcParams[\"figure.figsize\"] = (20,10)\n",
    "\n",
    "%load_ext autoreload\n",
    "%autoreload 2\n",
    "\n",
    "# Model Data range\n",
    "date = datetime.datetime(2021,3,12)\n",
    "# Total entry count\n",
    "count = 220\n",
    "training_count = 200\n",
    "\n",
    "history_size = 1\n"
   ]
  },
  {
   "cell_type": "code",
   "execution_count": 2,
   "id": "backed-bruce",
   "metadata": {},
   "outputs": [
    {
     "name": "stdout",
     "output_type": "stream",
     "text": [
      "(365, 2)\n",
      "(260, 2)\n",
      "(254, 2)\n",
      "(254, 2)\n",
      "(220, 2)\n",
      "(199, 1, 1)\n",
      "(20, 1, 1)\n",
      "(199, 1)\n",
      "(20, 1)\n"
     ]
    }
   ],
   "source": [
    "path = \"./Data/BTC.csv\"\n",
    "# Load data, with open price.\n",
    "train_x, train_y, test_x, test_y = utils.get_train_and_test_set(\n",
    "    path, date, count, history_size, training_count, column=\"market-price\"\n",
    ")\n",
    "train_x = np.resize(train_x, (training_count - history_size, history_size))\n",
    "test_x = np.resize(test_x, (count - training_count, history_size))\n",
    "print(train_x.shape)\n",
    "print(test_x.shape)\n"
   ]
  },
  {
   "cell_type": "code",
   "execution_count": 3,
   "id": "intimate-artist",
   "metadata": {},
   "outputs": [
    {
     "name": "stdout",
     "output_type": "stream",
     "text": [
      "(251, 7)\n",
      "(251, 7)\n",
      "(250, 7)\n",
      "(250, 7)\n",
      "(220, 7)\n",
      "(199, 1, 1)\n",
      "(20, 1, 1)\n",
      "(199, 2)\n",
      "(20, 2)\n"
     ]
    }
   ],
   "source": [
    "path = \"./Data/CL=F.csv\"\n",
    "# Load data, with yesterday close price.\n",
    "train_x0, train_y0, test_x0, test_y0 = utils.get_train_and_test_set(\n",
    "    path, date, count, history_size, training_count, column=\"Volume\"\n",
    ")\n",
    "train_x0 = np.resize(train_x, (training_count - history_size, history_size))\n",
    "test_x0 = np.resize(test_x, (count - training_count, history_size))\n",
    "train_x = np.hstack((train_x, train_x0))\n",
    "test_x = np.hstack((test_x, test_x0))\n",
    "print(train_x.shape)\n",
    "print(test_x.shape)\n"
   ]
  },
  {
   "cell_type": "code",
   "execution_count": 4,
   "id": "pharmaceutical-corporation",
   "metadata": {},
   "outputs": [
    {
     "name": "stdout",
     "output_type": "stream",
     "text": [
      "(251, 7)\n",
      "(251, 7)\n",
      "(250, 7)\n",
      "(250, 7)\n",
      "(220, 7)\n",
      "(199, 1, 1)\n",
      "(20, 1, 1)\n",
      "(199, 3)\n",
      "(20, 3)\n"
     ]
    }
   ],
   "source": [
    "path = \"./Data/CL=F.csv\"\n",
    "# Load data, with yesterday close price.\n",
    "train_x0, train_y0, test_x0, test_y0 = utils.get_train_and_test_set(\n",
    "    path, date, count, history_size, training_count\n",
    ")\n",
    "train_x0 = np.resize(train_x, (training_count - history_size, history_size))\n",
    "test_x0 = np.resize(test_x, (count - training_count, history_size))\n",
    "train_x = np.hstack((train_x, train_x0))\n",
    "test_x = np.hstack((test_x, test_x0))\n",
    "print(train_x.shape)\n",
    "print(test_x.shape)\n"
   ]
  },
  {
   "cell_type": "code",
   "execution_count": 5,
   "id": "tutorial-canal",
   "metadata": {},
   "outputs": [
    {
     "name": "stdout",
     "output_type": "stream",
     "text": [
      "(251, 7)\n",
      "(251, 7)\n",
      "(250, 7)\n",
      "(250, 7)\n",
      "(220, 7)\n",
      "(199, 1, 1)\n",
      "(20, 1, 1)\n",
      "(199, 4)\n",
      "(20, 4)\n"
     ]
    }
   ],
   "source": [
    "path = \"./Data/CL=F.csv\"\n",
    "# Load data, with yesterday close price.\n",
    "train_x0, train_y0, test_x0, test_y0 = utils.get_train_and_test_set(\n",
    "    path, date, count, history_size, training_count, column=\"Volume\"\n",
    ")\n",
    "train_x0 = np.resize(train_x, (training_count - history_size, history_size))\n",
    "test_x0 = np.resize(test_x, (count - training_count, history_size))\n",
    "train_x = np.hstack((train_x, train_x0))\n",
    "test_x = np.hstack((test_x, test_x0))\n",
    "print(train_x.shape)\n",
    "print(test_x.shape)\n"
   ]
  },
  {
   "cell_type": "code",
   "execution_count": 6,
   "id": "prospective-glossary",
   "metadata": {},
   "outputs": [
    {
     "name": "stdout",
     "output_type": "stream",
     "text": [
      "(251, 7)\n",
      "(251, 7)\n",
      "(250, 7)\n",
      "(250, 7)\n",
      "(220, 7)\n",
      "(199, 1, 1)\n",
      "(20, 1, 1)\n",
      "(199, 5)\n",
      "(20, 5)\n"
     ]
    }
   ],
   "source": [
    "path = \"./Data/GBBEF.csv\"\n",
    "# Load data, with yesterday close price.\n",
    "train_x0, train_y0, test_x0, test_y0 = utils.get_train_and_test_set(\n",
    "    path, date, count, history_size, training_count\n",
    ")\n",
    "train_x0 = np.resize(train_x, (training_count - history_size, history_size))\n",
    "test_x0 = np.resize(test_x, (count - training_count, history_size))\n",
    "train_x = np.hstack((train_x, train_x0))\n",
    "test_x = np.hstack((test_x, test_x0))\n",
    "print(train_x.shape)\n",
    "print(test_x.shape)\n"
   ]
  },
  {
   "cell_type": "code",
   "execution_count": 7,
   "id": "noted-russia",
   "metadata": {},
   "outputs": [
    {
     "name": "stdout",
     "output_type": "stream",
     "text": [
      "(251, 7)\n",
      "(251, 7)\n",
      "(250, 7)\n",
      "(250, 7)\n",
      "(220, 7)\n",
      "(199, 1, 1)\n",
      "(20, 1, 1)\n",
      "(199, 6)\n",
      "(20, 6)\n"
     ]
    }
   ],
   "source": [
    "path = \"./Data/GBBEF.csv\"\n",
    "# Load data, with yesterday close price.\n",
    "train_x0, train_y0, test_x0, test_y0 = utils.get_train_and_test_set(\n",
    "    path, date, count, history_size, training_count, column=\"Volume\"\n",
    ")\n",
    "train_x0 = np.resize(train_x, (training_count - history_size, history_size))\n",
    "test_x0 = np.resize(test_x, (count - training_count, history_size))\n",
    "train_x = np.hstack((train_x, train_x0))\n",
    "test_x = np.hstack((test_x, test_x0))\n",
    "print(train_x.shape)\n",
    "print(test_x.shape)\n"
   ]
  },
  {
   "cell_type": "code",
   "execution_count": 8,
   "id": "bearing-hazard",
   "metadata": {},
   "outputs": [
    {
     "name": "stdout",
     "output_type": "stream",
     "text": [
      "(251, 7)\n",
      "(251, 7)\n",
      "(250, 7)\n",
      "(250, 7)\n",
      "(220, 7)\n",
      "(199, 1, 1)\n",
      "(20, 1, 1)\n",
      "(199, 7)\n",
      "(20, 7)\n"
     ]
    }
   ],
   "source": [
    "path = \"./Data/GC=F.csv\"\n",
    "# Load data, with yesterday close price.\n",
    "train_x0, train_y0, test_x0, test_y0 = utils.get_train_and_test_set(\n",
    "    path, date, count, history_size, training_count\n",
    ")\n",
    "train_x0 = np.resize(train_x, (training_count - history_size, history_size))\n",
    "test_x0 = np.resize(test_x, (count - training_count, history_size))\n",
    "train_x = np.hstack((train_x, train_x0))\n",
    "test_x = np.hstack((test_x, test_x0))\n",
    "print(train_x.shape)\n",
    "print(test_x.shape)\n"
   ]
  },
  {
   "cell_type": "code",
   "execution_count": 9,
   "id": "included-wagner",
   "metadata": {},
   "outputs": [
    {
     "name": "stdout",
     "output_type": "stream",
     "text": [
      "(251, 7)\n",
      "(251, 7)\n",
      "(250, 7)\n",
      "(250, 7)\n",
      "(220, 7)\n",
      "(199, 1, 1)\n",
      "(20, 1, 1)\n",
      "(199, 8)\n",
      "(20, 8)\n"
     ]
    }
   ],
   "source": [
    "path = \"./Data/GC=F.csv\"\n",
    "# Load data, with yesterday close price.\n",
    "train_x0, train_y0, test_x0, test_y0 = utils.get_train_and_test_set(\n",
    "    path, date, count, history_size, training_count, column=\"Volume\"\n",
    ")\n",
    "train_x0 = np.resize(train_x, (training_count - history_size, history_size))\n",
    "test_x0 = np.resize(test_x, (count - training_count, history_size))\n",
    "train_x = np.hstack((train_x, train_x0))\n",
    "test_x = np.hstack((test_x, test_x0))\n",
    "print(train_x.shape)\n",
    "print(test_x.shape)\n"
   ]
  },
  {
   "cell_type": "code",
   "execution_count": 10,
   "id": "fitting-charity",
   "metadata": {},
   "outputs": [],
   "source": [
    "# AMZN"
   ]
  },
  {
   "cell_type": "code",
   "execution_count": 11,
   "id": "bronze-bedroom",
   "metadata": {},
   "outputs": [
    {
     "name": "stdout",
     "output_type": "stream",
     "text": [
      "(1258, 7)\n",
      "(1258, 7)\n",
      "(1257, 7)\n",
      "(1257, 7)\n",
      "(220, 7)\n",
      "(199, 1, 1)\n",
      "(20, 1, 1)\n",
      "(199, 8)\n",
      "(20, 8)\n"
     ]
    }
   ],
   "source": [
    "path = \"./Data/AMZN2021.csv\"\n",
    "# Load data, with yesterday close price.\n",
    "train_x0, train_y0, test_x0, test_y0 = utils.get_train_and_test_set(\n",
    "    path, date, count, history_size, training_count\n",
    ")\n",
    "train_x0 = np.resize(train_x, (training_count - history_size, history_size))\n",
    "test_x0 = np.resize(test_x, (count - training_count, history_size))\n",
    "train_x1 = np.hstack((train_x, train_x0))\n",
    "test_x1 = np.hstack((test_x, test_x0))\n",
    "print(train_x.shape)\n",
    "print(test_x.shape)\n"
   ]
  },
  {
   "cell_type": "code",
   "execution_count": 12,
   "id": "charming-typing",
   "metadata": {},
   "outputs": [
    {
     "name": "stdout",
     "output_type": "stream",
     "text": [
      "(1258, 7)\n",
      "(1258, 7)\n",
      "(1258, 7)\n",
      "(1258, 7)\n",
      "(220, 7)\n",
      "(199, 1, 1)\n",
      "(20, 1, 1)\n"
     ]
    }
   ],
   "source": [
    "path = \"./Data/AMZN2021.csv\"\n",
    "date = datetime.datetime(2021,3,13)\n",
    "# Load data, with today close price as ground truth.\n",
    "_, train_y, _, test_y = utils.get_train_and_test_set(\n",
    "    path, date, count, history_size, training_count\n",
    ")\n"
   ]
  },
  {
   "cell_type": "code",
   "execution_count": 13,
   "id": "demonstrated-factor",
   "metadata": {},
   "outputs": [
    {
     "name": "stdout",
     "output_type": "stream",
     "text": [
      "mse 6 mean val MSE: 0.23205381383140417\n",
      "mse 9 mean val MSE: 0.2331780021226905\n",
      "mse 12 mean val MSE: 0.23959242865230684\n",
      "mse 15 mean val MSE: 0.24127198344173367\n",
      "mse 19 mean val MSE: 0.23858773727510943\n",
      "mse 25 mean val MSE: 0.23652155701123334\n",
      "mse 30 mean val MSE: 0.23846960981063242\n",
      "mse 50 mean val MSE: 0.23461403003853798\n",
      "mae 6 mean val MSE: 0.21418200215671415\n",
      "mae 9 mean val MSE: 0.2145945403761666\n",
      "mae 12 mean val MSE: 0.21975233754229917\n",
      "mae 15 mean val MSE: 0.22022914532306145\n",
      "mae 19 mean val MSE: 0.2150426784179201\n",
      "mae 25 mean val MSE: 0.22033278438844178\n",
      "mae 30 mean val MSE: 0.21767051450872144\n",
      "mae 50 mean val MSE: 0.2166580910144562\n"
     ]
    }
   ],
   "source": [
    "criteria_params = [\"mse\", \"mae\"]\n",
    "max_depth_params = [6, 9, 12, 15, 19, 25, 30, 50]\n",
    "regressor, best_err = dtree.dicision_tree_model_selection(train_x1, train_y, criteria_params, max_depth_params)"
   ]
  },
  {
   "cell_type": "code",
   "execution_count": 14,
   "id": "fourth-consolidation",
   "metadata": {
    "scrolled": false
   },
   "outputs": [
    {
     "data": {
      "image/png": "[encoded data removed]",
      "text/plain": [
       "<Figure size 1440x720 with 1 Axes>"
      ]
     },
     "metadata": {
      "needs_background": "light"
     },
     "output_type": "display_data"
    }
   ],
   "source": [
    "y_hat = regressor.fit(train_x1, train_y).predict(test_x1)\n",
    "plt.plot(y_hat[:], label=\"estmated\")\n",
    "plt.plot(test_y[:], label=\"real\")\n",
    "plt.legend(bbox_to_anchor=(0., 1.02, 1., .102), loc='lower left',\n",
    "           ncol=2, mode=\"expand\", borderaxespad=0.)\n",
    "plt.show()"
   ]
  },
  {
   "cell_type": "code",
   "execution_count": 15,
   "id": "secondary-steam",
   "metadata": {},
   "outputs": [],
   "source": [
    "# SONY"
   ]
  },
  {
   "cell_type": "code",
   "execution_count": 16,
   "id": "alien-samoa",
   "metadata": {},
   "outputs": [
    {
     "name": "stdout",
     "output_type": "stream",
     "text": [
      "(1258, 7)\n",
      "(1258, 7)\n",
      "(1258, 7)\n",
      "(1258, 7)\n",
      "(220, 7)\n",
      "(199, 1, 1)\n",
      "(20, 1, 1)\n",
      "(199, 8)\n",
      "(20, 8)\n"
     ]
    }
   ],
   "source": [
    "path = \"./Data/SONY2021.csv\"\n",
    "# Load data, with yesterday close price.\n",
    "train_x0, train_y0, test_x0, test_y0 = utils.get_train_and_test_set(\n",
    "    path, date, count, history_size, training_count\n",
    ")\n",
    "train_x0 = np.resize(train_x, (training_count - history_size, history_size))\n",
    "test_x0 = np.resize(test_x, (count - training_count, history_size))\n",
    "train_x1 = np.hstack((train_x, train_x0))\n",
    "test_x1 = np.hstack((test_x, test_x0))\n",
    "print(train_x.shape)\n",
    "print(test_x.shape)\n"
   ]
  },
  {
   "cell_type": "code",
   "execution_count": 17,
   "id": "indian-antigua",
   "metadata": {},
   "outputs": [
    {
     "name": "stdout",
     "output_type": "stream",
     "text": [
      "(1258, 7)\n",
      "(1258, 7)\n",
      "(1258, 7)\n",
      "(1258, 7)\n",
      "(220, 7)\n",
      "(199, 1, 1)\n",
      "(20, 1, 1)\n"
     ]
    }
   ],
   "source": [
    "path = \"./Data/SONY2021.csv\"\n",
    "date = datetime.datetime(2021,3,13)\n",
    "# Load data, with today close price as ground truth.\n",
    "_, train_y, _, test_y = utils.get_train_and_test_set(\n",
    "    path, date, count, history_size, training_count\n",
    ")\n"
   ]
  },
  {
   "cell_type": "code",
   "execution_count": 18,
   "id": "billion-trauma",
   "metadata": {},
   "outputs": [
    {
     "name": "stdout",
     "output_type": "stream",
     "text": [
      "mse 6 mean val MSE: 0.1484410852773546\n",
      "mse 9 mean val MSE: 0.15428837007900542\n",
      "mse 12 mean val MSE: 0.15213679114108208\n",
      "mse 15 mean val MSE: 0.15058864204388916\n",
      "mse 19 mean val MSE: 0.15213100187461054\n",
      "mse 25 mean val MSE: 0.15007582291567237\n",
      "mse 30 mean val MSE: 0.151189959382597\n",
      "mse 50 mean val MSE: 0.15022308857835864\n",
      "mae 6 mean val MSE: 0.15581855189667498\n",
      "mae 9 mean val MSE: 0.14897763425863725\n",
      "mae 12 mean val MSE: 0.1524202784581981\n",
      "mae 15 mean val MSE: 0.14986206357732554\n",
      "mae 19 mean val MSE: 0.1508231754416781\n",
      "mae 25 mean val MSE: 0.1498255560040251\n",
      "mae 30 mean val MSE: 0.15179209001137686\n",
      "mae 50 mean val MSE: 0.1530444038541841\n"
     ]
    }
   ],
   "source": [
    "criteria_params = [\"mse\", \"mae\"]\n",
    "max_depth_params = [6, 9, 12, 15, 19, 25, 30, 50]\n",
    "regressor, best_err = dtree.dicision_tree_model_selection(train_x1, train_y, criteria_params, max_depth_params)"
   ]
  },
  {
   "cell_type": "code",
   "execution_count": 19,
   "id": "interim-vancouver",
   "metadata": {
    "scrolled": true
   },
   "outputs": [
    {
     "data": {
      "image/png": "[encoded data removed]",
      "text/plain": [
       "<Figure size 1440x720 with 1 Axes>"
      ]
     },
     "metadata": {
      "needs_background": "light"
     },
     "output_type": "display_data"
    }
   ],
   "source": [
    "y_hat = regressor.fit(train_x1, train_y).predict(test_x1)\n",
    "plt.plot(y_hat[:], label=\"estmated\")\n",
    "plt.plot(test_y[:], label=\"real\")\n",
    "plt.legend(bbox_to_anchor=(0., 1.02, 1., .102), loc='lower left',\n",
    "           ncol=2, mode=\"expand\", borderaxespad=0.)\n",
    "plt.show()"
   ]
  },
  {
   "cell_type": "code",
   "execution_count": 20,
   "id": "entire-favor",
   "metadata": {},
   "outputs": [],
   "source": [
    "# IBIO"
   ]
  },
  {
   "cell_type": "code",
   "execution_count": 21,
   "id": "excessive-course",
   "metadata": {},
   "outputs": [
    {
     "name": "stdout",
     "output_type": "stream",
     "text": [
      "(1258, 7)\n",
      "(1258, 7)\n",
      "(1258, 7)\n",
      "(1258, 7)\n",
      "(220, 7)\n",
      "(199, 1, 1)\n",
      "(20, 1, 1)\n",
      "(199, 8)\n",
      "(20, 8)\n"
     ]
    }
   ],
   "source": [
    "path = \"./Data/IBIO2021.csv\"\n",
    "# Load data, with yesterday close price.\n",
    "train_x0, train_y0, test_x0, test_y0 = utils.get_train_and_test_set(\n",
    "    path, date, count, history_size, training_count\n",
    ")\n",
    "train_x0 = np.resize(train_x, (training_count - history_size, history_size))\n",
    "test_x0 = np.resize(test_x, (count - training_count, history_size))\n",
    "train_x1 = np.hstack((train_x, train_x0))\n",
    "test_x1 = np.hstack((test_x, test_x0))\n",
    "print(train_x.shape)\n",
    "print(test_x.shape)\n"
   ]
  },
  {
   "cell_type": "code",
   "execution_count": 22,
   "id": "deluxe-nutrition",
   "metadata": {},
   "outputs": [
    {
     "name": "stdout",
     "output_type": "stream",
     "text": [
      "(1258, 7)\n",
      "(1258, 7)\n",
      "(1258, 7)\n",
      "(1258, 7)\n",
      "(220, 7)\n",
      "(199, 1, 1)\n",
      "(20, 1, 1)\n"
     ]
    }
   ],
   "source": [
    "path = \"./Data/IBIO2021.csv\"\n",
    "date = datetime.datetime(2021,3,13)\n",
    "# Load data, with today close price as ground truth.\n",
    "_, train_y, _, test_y = utils.get_train_and_test_set(\n",
    "    path, date, count, history_size, training_count\n",
    ")\n"
   ]
  },
  {
   "cell_type": "code",
   "execution_count": 23,
   "id": "complex-shelter",
   "metadata": {},
   "outputs": [
    {
     "name": "stdout",
     "output_type": "stream",
     "text": [
      "mse 6 mean val MSE: 0.2539319181439225\n",
      "mse 9 mean val MSE: 0.2496036566631234\n",
      "mse 12 mean val MSE: 0.25331239053539867\n",
      "mse 15 mean val MSE: 0.25387201287181344\n",
      "mse 19 mean val MSE: 0.2599367221933723\n",
      "mse 25 mean val MSE: 0.25303765606329354\n",
      "mse 30 mean val MSE: 0.24655662519326987\n",
      "mse 50 mean val MSE: 0.2548751814700876\n",
      "mae 6 mean val MSE: 0.328098389287466\n",
      "mae 9 mean val MSE: 0.338072169371752\n",
      "mae 12 mean val MSE: 0.33796260897914693\n",
      "mae 15 mean val MSE: 0.3354399185745308\n",
      "mae 19 mean val MSE: 0.3129806155528462\n",
      "mae 25 mean val MSE: 0.31585773244592175\n",
      "mae 30 mean val MSE: 0.32133640279268316\n",
      "mae 50 mean val MSE: 0.34033533701403085\n"
     ]
    }
   ],
   "source": [
    "criteria_params = [\"mse\", \"mae\"]\n",
    "max_depth_params = [6, 9, 12, 15, 19, 25, 30, 50]\n",
    "regressor, best_err = dtree.dicision_tree_model_selection(train_x1, train_y, criteria_params, max_depth_params)"
   ]
  },
  {
   "cell_type": "code",
   "execution_count": 24,
   "id": "square-approval",
   "metadata": {
    "scrolled": true
   },
   "outputs": [
    {
     "data": {
      "image/png": "[encoded data removed]",
      "text/plain": [
       "<Figure size 1440x720 with 1 Axes>"
      ]
     },
     "metadata": {
      "needs_background": "light"
     },
     "output_type": "display_data"
    }
   ],
   "source": [
    "y_hat = regressor.fit(train_x1, train_y).predict(test_x1)\n",
    "plt.plot(y_hat[:], label=\"estmated\")\n",
    "plt.plot(test_y[:], label=\"real\")\n",
    "plt.legend(bbox_to_anchor=(0., 1.02, 1., .102), loc='lower left',\n",
    "           ncol=2, mode=\"expand\", borderaxespad=0.)\n",
    "plt.show()"
   ]
  },
  {
   "cell_type": "code",
   "execution_count": null,
   "id": "hundred-rubber",
   "metadata": {},
   "outputs": [],
   "source": []
  }
 ],
 "metadata": {
  "kernelspec": {
   "display_name": "tensorflow",
   "language": "python",
   "name": "tensorflow"
  },
  "language_info": {
   "codemirror_mode": {
    "name": "ipython",
    "version": 3
   },
   "file_extension": ".py",
   "mimetype": "text/x-python",
   "name": "python",
   "nbconvert_exporter": "python",
   "pygments_lexer": "ipython3",
   "version": "3.8.5"
  }
 },
 "nbformat": 4,
 "nbformat_minor": 5
}
