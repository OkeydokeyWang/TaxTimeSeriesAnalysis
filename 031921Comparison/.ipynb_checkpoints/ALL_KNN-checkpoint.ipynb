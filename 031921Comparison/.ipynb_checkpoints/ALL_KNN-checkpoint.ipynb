{
 "cells": [
  {
   "cell_type": "code",
   "execution_count": null,
   "id": "varying-aerospace",
   "metadata": {},
   "outputs": [],
   "source": [
    "import dataloader\n",
    "import utils\n",
    "import knn\n",
    "\n",
    "import datetime\n",
    "import numpy as np\n",
    "from matplotlib import pyplot as plt\n",
    "\n",
    "plt.rcParams[\"figure.figsize\"] = (20,10)\n",
    "\n",
    "%load_ext autoreload\n",
    "%autoreload 2\n",
    "\n",
    "# Model Data range\n",
    "date = datetime.datetime(2021,3,12)\n",
    "# Total entry count\n",
    "count = 1200\n",
    "training_count = 1000\n",
    "\n",
    "history_size = 1\n"
   ]
  },
  {
   "cell_type": "code",
   "execution_count": null,
   "id": "backed-bruce",
   "metadata": {},
   "outputs": [],
   "source": [
    "path = \"./Data/BTC-USD-2.csv\"\n",
    "# Load data, with open price.\n",
    "train_x, train_y, test_x, test_y = utils.get_train_and_test_set(\n",
    "    path, date, count, history_size, training_count, column=\"market-price\"\n",
    ")\n",
    "train_x = np.resize(train_x, (training_count - history_size, history_size))\n",
    "test_x = np.resize(test_x, (count - training_count, history_size))\n",
    "print(train_x.shape)\n",
    "print(test_x.shape)\n"
   ]
  },
  {
   "cell_type": "code",
   "execution_count": null,
   "id": "level-joyce",
   "metadata": {},
   "outputs": [],
   "source": [
    "path = \"./Data/CL=F-2.csv\"\n",
    "# Load data, with yesterday close price.\n",
    "train_x0, train_y0, test_x0, test_y0 = utils.get_train_and_test_set(\n",
    "    path, date, count, history_size, training_count\n",
    ")\n",
    "train_x0 = np.resize(train_x, (training_count - history_size, history_size))\n",
    "test_x0 = np.resize(test_x, (count - training_count, history_size))\n",
    "train_x = np.hstack((train_x, train_x0))\n",
    "test_x = np.hstack((test_x, test_x0))\n",
    "print(train_x.shape)\n",
    "print(test_x.shape)\n"
   ]
  },
  {
   "cell_type": "code",
   "execution_count": null,
   "id": "isolated-matrix",
   "metadata": {},
   "outputs": [],
   "source": [
    "path = \"./Data/SPY-2.csv\"\n",
    "# Load data, with yesterday close price.\n",
    "train_x0, train_y0, test_x0, test_y0 = utils.get_train_and_test_set(\n",
    "    path, date, count, history_size, training_count\n",
    ")\n",
    "train_x0 = np.resize(train_x, (training_count - history_size, history_size))\n",
    "test_x0 = np.resize(test_x, (count - training_count, history_size))\n",
    "train_x = np.hstack((train_x, train_x0))\n",
    "test_x = np.hstack((test_x, test_x0))\n",
    "print(train_x.shape)\n",
    "print(test_x.shape)"
   ]
  },
  {
   "cell_type": "code",
   "execution_count": null,
   "id": "congressional-hepatitis",
   "metadata": {},
   "outputs": [],
   "source": [
    "path = \"./Data/YM=F.csv\"\n",
    "# Load data, with yesterday close price.\n",
    "train_x0, train_y0, test_x0, test_y0 = utils.get_train_and_test_set(\n",
    "    path, date, count, history_size, training_count\n",
    ")\n",
    "train_x0 = np.resize(train_x, (training_count - history_size, history_size))\n",
    "test_x0 = np.resize(test_x, (count - training_count, history_size))\n",
    "train_x = np.hstack((train_x, train_x0))\n",
    "test_x = np.hstack((test_x, test_x0))\n",
    "print(train_x.shape)\n",
    "print(test_x.shape)"
   ]
  },
  {
   "cell_type": "code",
   "execution_count": 4,
   "id": "refined-klein",
   "metadata": {},
   "outputs": [
    {
     "name": "stdout",
     "output_type": "stream",
     "text": [
      "(251, 7)\n",
      "(251, 7)\n",
      "(250, 7)\n",
      "(250, 7)\n",
      "(220, 7)\n",
      "(199, 1, 1)\n",
      "(20, 1, 1)\n",
      "(199, 3)\n",
      "(20, 3)\n"
     ]
    }
   ],
   "source": [
    "path = \"./Data/CL=F-2.csv\"\n",
    "# Load data, with yesterday close price.\n",
    "train_x0, train_y0, test_x0, test_y0 = utils.get_train_and_test_set(\n",
    "    path, date, count, history_size, training_count, column=\"Volume\"\n",
    ")\n",
    "train_x0 = np.resize(train_x, (training_count - history_size, history_size))\n",
    "test_x0 = np.resize(test_x, (count - training_count, history_size))\n",
    "train_x = np.hstack((train_x, train_x0))\n",
    "test_x = np.hstack((test_x, test_x0))\n",
    "print(train_x.shape)\n",
    "print(test_x.shape)\n"
   ]
  },
  {
   "cell_type": "code",
   "execution_count": 5,
   "id": "developed-investor",
   "metadata": {},
   "outputs": [
    {
     "name": "stdout",
     "output_type": "stream",
     "text": [
      "(251, 7)\n",
      "(251, 7)\n",
      "(250, 7)\n",
      "(250, 7)\n",
      "(220, 7)\n",
      "(199, 1, 1)\n",
      "(20, 1, 1)\n",
      "(199, 4)\n",
      "(20, 4)\n"
     ]
    }
   ],
   "source": [
    "path = \"./Data/GBBEF-2.csv\"\n",
    "# Load data, with yesterday close price.\n",
    "train_x0, train_y0, test_x0, test_y0 = utils.get_train_and_test_set(\n",
    "    path, date, count, history_size, training_count\n",
    ")\n",
    "train_x0 = np.resize(train_x, (training_count - history_size, history_size))\n",
    "test_x0 = np.resize(test_x, (count - training_count, history_size))\n",
    "train_x = np.hstack((train_x, train_x0))\n",
    "test_x = np.hstack((test_x, test_x0))\n",
    "print(train_x.shape)\n",
    "print(test_x.shape)\n"
   ]
  },
  {
   "cell_type": "code",
   "execution_count": 6,
   "id": "affiliated-torture",
   "metadata": {},
   "outputs": [
    {
     "name": "stdout",
     "output_type": "stream",
     "text": [
      "(251, 7)\n",
      "(251, 7)\n",
      "(250, 7)\n",
      "(250, 7)\n",
      "(220, 7)\n",
      "(199, 1, 1)\n",
      "(20, 1, 1)\n",
      "(199, 5)\n",
      "(20, 5)\n"
     ]
    }
   ],
   "source": [
    "path = \"./Data/GBBEF-2.csv\"\n",
    "# Load data, with yesterday close price.\n",
    "train_x0, train_y0, test_x0, test_y0 = utils.get_train_and_test_set(\n",
    "    path, date, count, history_size, training_count, column=\"Volume\"\n",
    ")\n",
    "train_x0 = np.resize(train_x, (training_count - history_size, history_size))\n",
    "test_x0 = np.resize(test_x, (count - training_count, history_size))\n",
    "train_x = np.hstack((train_x, train_x0))\n",
    "test_x = np.hstack((test_x, test_x0))\n",
    "print(train_x.shape)\n",
    "print(test_x.shape)\n"
   ]
  },
  {
   "cell_type": "code",
   "execution_count": 7,
   "id": "latest-attempt",
   "metadata": {
    "scrolled": true
   },
   "outputs": [
    {
     "name": "stdout",
     "output_type": "stream",
     "text": [
      "(251, 7)\n",
      "(251, 7)\n",
      "(250, 7)\n",
      "(250, 7)\n",
      "(220, 7)\n",
      "(199, 1, 1)\n",
      "(20, 1, 1)\n",
      "(199, 6)\n",
      "(20, 6)\n"
     ]
    }
   ],
   "source": [
    "path = \"./Data/GC=F-2.csv\"\n",
    "# Load data, with yesterday close price.\n",
    "train_x0, train_y0, test_x0, test_y0 = utils.get_train_and_test_set(\n",
    "    path, date, count, history_size, training_count\n",
    ")\n",
    "train_x0 = np.resize(train_x, (training_count - history_size, history_size))\n",
    "test_x0 = np.resize(test_x, (count - training_count, history_size))\n",
    "train_x = np.hstack((train_x, train_x0))\n",
    "test_x = np.hstack((test_x, test_x0))\n",
    "print(train_x.shape)\n",
    "print(test_x.shape)\n"
   ]
  },
  {
   "cell_type": "code",
   "execution_count": 8,
   "id": "daily-hungary",
   "metadata": {
    "scrolled": true
   },
   "outputs": [
    {
     "name": "stdout",
     "output_type": "stream",
     "text": [
      "(251, 7)\n",
      "(251, 7)\n",
      "(250, 7)\n",
      "(250, 7)\n",
      "(220, 7)\n",
      "(199, 1, 1)\n",
      "(20, 1, 1)\n",
      "(199, 7)\n",
      "(20, 7)\n"
     ]
    }
   ],
   "source": [
    "path = \"./Data/GC=F-2.csv\"\n",
    "# Load data, with yesterday close price.\n",
    "train_x0, train_y0, test_x0, test_y0 = utils.get_train_and_test_set(\n",
    "    path, date, count, history_size, training_count, column=\"Volume\"\n",
    ")\n",
    "train_x0 = np.resize(train_x, (training_count - history_size, history_size))\n",
    "test_x0 = np.resize(test_x, (count - training_count, history_size))\n",
    "train_x = np.hstack((train_x, train_x0))\n",
    "test_x = np.hstack((test_x, test_x0))\n",
    "print(train_x.shape)\n",
    "print(test_x.shape)\n"
   ]
  },
  {
   "cell_type": "markdown",
   "id": "appropriate-blind",
   "metadata": {},
   "source": [
    "# AMZN"
   ]
  },
  {
   "cell_type": "code",
   "execution_count": 9,
   "id": "fresh-tuning",
   "metadata": {},
   "outputs": [
    {
     "name": "stdout",
     "output_type": "stream",
     "text": [
      "(1258, 7)\n",
      "(1258, 7)\n",
      "(1257, 7)\n",
      "(1257, 7)\n",
      "(220, 7)\n",
      "(199, 1, 1)\n",
      "(20, 1, 1)\n",
      "(199, 8)\n",
      "(20, 8)\n"
     ]
    }
   ],
   "source": [
    "path = \"./Data/AMZN2021.csv\"\n",
    "# Load data, with yesterday close price.\n",
    "train_x0, train_y0, test_x0, test_y0 = utils.get_train_and_test_set(\n",
    "    path, date, count, history_size, training_count\n",
    ")\n",
    "train_x0 = np.resize(train_x, (training_count - history_size, history_size))\n",
    "test_x0 = np.resize(test_x, (count - training_count, history_size))\n",
    "train_x1 = np.hstack((train_x, train_x0))\n",
    "test_x1 = np.hstack((test_x, test_x0))\n",
    "print(train_x1.shape)\n",
    "print(test_x1.shape)\n"
   ]
  },
  {
   "cell_type": "code",
   "execution_count": 10,
   "id": "cloudy-watch",
   "metadata": {},
   "outputs": [
    {
     "name": "stdout",
     "output_type": "stream",
     "text": [
      "(1258, 7)\n",
      "(1258, 7)\n",
      "(1258, 7)\n",
      "(1258, 7)\n",
      "(220, 7)\n",
      "(199, 1, 1)\n",
      "(20, 1, 1)\n"
     ]
    }
   ],
   "source": [
    "path = \"./Data/AMZN2021.csv\"\n",
    "date = datetime.datetime(2021,3,13)\n",
    "# Load data, with today close price as ground truth.\n",
    "_, train_y, _, test_y = utils.get_train_and_test_set(\n",
    "    path, date, count, history_size, training_count\n",
    ")\n"
   ]
  },
  {
   "cell_type": "code",
   "execution_count": 11,
   "id": "judicial-fifteen",
   "metadata": {},
   "outputs": [
    {
     "name": "stdout",
     "output_type": "stream",
     "text": [
      "3 mean val RMSE: 0.23892436068696585\n",
      "Time lapsed 3.7865638732910156\n",
      "5 mean val RMSE: 0.22981207749339544\n",
      "Time lapsed 3.610849380493164\n",
      "10 mean val RMSE: 0.2282859203967303\n",
      "Time lapsed 3.812551498413086\n",
      "20 mean val RMSE: 0.2322832032871609\n",
      "Time lapsed 4.037380218505859\n",
      "25 mean val RMSE: 0.23559489689007568\n",
      "Time lapsed 4.137992858886719\n"
     ]
    }
   ],
   "source": [
    "nn_params = [3, 5, 10, 20, 25]\n",
    "regressor, best_err = knn.knn_model_selection(train_x1, train_y, nn_params)"
   ]
  },
  {
   "cell_type": "code",
   "execution_count": 12,
   "id": "amber-logan",
   "metadata": {
    "scrolled": false
   },
   "outputs": [
    {
     "data": {
      "image/png": "[encoded data removed]",
      "text/plain": [
       "<Figure size 1440x720 with 1 Axes>"
      ]
     },
     "metadata": {
      "needs_background": "light"
     },
     "output_type": "display_data"
    }
   ],
   "source": [
    "y_hat = regressor.fit(train_x1, train_y).predict(test_x1)\n",
    "plt.plot(y_hat[:], label=\"estmated\")\n",
    "plt.plot(test_y[:], label=\"real\")\n",
    "plt.legend(bbox_to_anchor=(0., 1.02, 1., .102), loc='lower left',\n",
    "           ncol=2, mode=\"expand\", borderaxespad=0.)\n",
    "plt.show()"
   ]
  },
  {
   "cell_type": "markdown",
   "id": "known-agreement",
   "metadata": {},
   "source": [
    "# SONY"
   ]
  },
  {
   "cell_type": "code",
   "execution_count": 13,
   "id": "environmental-honor",
   "metadata": {},
   "outputs": [
    {
     "name": "stdout",
     "output_type": "stream",
     "text": [
      "(1258, 7)\n",
      "(1258, 7)\n",
      "(1258, 7)\n",
      "(1258, 7)\n",
      "(220, 7)\n",
      "(199, 1, 1)\n",
      "(20, 1, 1)\n",
      "(199, 8)\n",
      "(20, 8)\n"
     ]
    }
   ],
   "source": [
    "path = \"./Data/SONY2021.csv\"\n",
    "# Load data, with yesterday close price.\n",
    "train_x0, train_y0, test_x0, test_y0 = utils.get_train_and_test_set(\n",
    "    path, date, count, history_size, training_count\n",
    ")\n",
    "train_x0 = np.resize(train_x, (training_count - history_size, history_size))\n",
    "test_x0 = np.resize(test_x, (count - training_count, history_size))\n",
    "train_x1 = np.hstack((train_x, train_x0))\n",
    "test_x1 = np.hstack((test_x, test_x0))\n",
    "print(train_x1.shape)\n",
    "print(test_x1.shape)\n"
   ]
  },
  {
   "cell_type": "code",
   "execution_count": 14,
   "id": "neural-disaster",
   "metadata": {},
   "outputs": [
    {
     "name": "stdout",
     "output_type": "stream",
     "text": [
      "(1258, 7)\n",
      "(1258, 7)\n",
      "(1258, 7)\n",
      "(1258, 7)\n",
      "(220, 7)\n",
      "(199, 1, 1)\n",
      "(20, 1, 1)\n"
     ]
    }
   ],
   "source": [
    "path = \"./Data/SONY2021.csv\"\n",
    "date = datetime.datetime(2021,3,13)\n",
    "# Load data, with today close price as ground truth.\n",
    "_, train_y, _, test_y = utils.get_train_and_test_set(\n",
    "    path, date, count, history_size, training_count\n",
    ")\n"
   ]
  },
  {
   "cell_type": "code",
   "execution_count": 15,
   "id": "valid-graph",
   "metadata": {},
   "outputs": [
    {
     "name": "stdout",
     "output_type": "stream",
     "text": [
      "3 mean val RMSE: 0.13621898311045885\n",
      "Time lapsed 3.7360191345214844\n",
      "5 mean val RMSE: 0.12873481295458863\n",
      "Time lapsed 3.9114952087402344\n",
      "10 mean val RMSE: 0.12763594359692804\n",
      "Time lapsed 3.8640499114990234\n",
      "20 mean val RMSE: 0.13736388722197293\n",
      "Time lapsed 3.9916038513183594\n",
      "25 mean val RMSE: 0.1423831865372896\n",
      "Time lapsed 4.111289978027344\n"
     ]
    }
   ],
   "source": [
    "nn_params = [3, 5, 10, 20, 25]\n",
    "regressor, best_err = knn.knn_model_selection(train_x1, train_y, nn_params)"
   ]
  },
  {
   "cell_type": "code",
   "execution_count": 16,
   "id": "popular-kingdom",
   "metadata": {
    "scrolled": false
   },
   "outputs": [
    {
     "data": {
      "image/png": "[encoded data removed]",
      "text/plain": [
       "<Figure size 1440x720 with 1 Axes>"
      ]
     },
     "metadata": {
      "needs_background": "light"
     },
     "output_type": "display_data"
    }
   ],
   "source": [
    "y_hat = regressor.fit(train_x1, train_y).predict(test_x1)\n",
    "plt.plot(y_hat[:], label=\"estmated\")\n",
    "plt.plot(test_y[:], label=\"real\")\n",
    "plt.legend(bbox_to_anchor=(0., 1.02, 1., .102), loc='lower left',\n",
    "           ncol=2, mode=\"expand\", borderaxespad=0.)\n",
    "plt.show()"
   ]
  },
  {
   "cell_type": "markdown",
   "id": "advisory-solomon",
   "metadata": {},
   "source": [
    "# IBIO"
   ]
  },
  {
   "cell_type": "code",
   "execution_count": 17,
   "id": "hawaiian-cartoon",
   "metadata": {},
   "outputs": [
    {
     "name": "stdout",
     "output_type": "stream",
     "text": [
      "(1258, 7)\n",
      "(1258, 7)\n",
      "(1258, 7)\n",
      "(1258, 7)\n",
      "(220, 7)\n",
      "(199, 1, 1)\n",
      "(20, 1, 1)\n",
      "(199, 8)\n",
      "(20, 8)\n"
     ]
    }
   ],
   "source": [
    "path = \"./Data/IBIO2021.csv\"\n",
    "# Load data, with yesterday close price.\n",
    "train_x0, train_y0, test_x0, test_y0 = utils.get_train_and_test_set(\n",
    "    path, date, count, history_size, training_count\n",
    ")\n",
    "train_x0 = np.resize(train_x, (training_count - history_size, history_size))\n",
    "test_x0 = np.resize(test_x, (count - training_count, history_size))\n",
    "train_x1 = np.hstack((train_x, train_x0))\n",
    "test_x1 = np.hstack((test_x, test_x0))\n",
    "print(train_x1.shape)\n",
    "print(test_x1.shape)\n"
   ]
  },
  {
   "cell_type": "code",
   "execution_count": 18,
   "id": "front-syndrome",
   "metadata": {},
   "outputs": [
    {
     "name": "stdout",
     "output_type": "stream",
     "text": [
      "(1258, 7)\n",
      "(1258, 7)\n",
      "(1258, 7)\n",
      "(1258, 7)\n",
      "(220, 7)\n",
      "(199, 1, 1)\n",
      "(20, 1, 1)\n"
     ]
    }
   ],
   "source": [
    "path = \"./Data/IBIO2021.csv\"\n",
    "date = datetime.datetime(2021,3,13)\n",
    "# Load data, with today close price as ground truth.\n",
    "_, train_y, _, test_y = utils.get_train_and_test_set(\n",
    "    path, date, count, history_size, training_count\n",
    ")\n"
   ]
  },
  {
   "cell_type": "code",
   "execution_count": 19,
   "id": "compact-appraisal",
   "metadata": {},
   "outputs": [
    {
     "name": "stdout",
     "output_type": "stream",
     "text": [
      "3 mean val RMSE: 0.23980589569994026\n",
      "Time lapsed 3.738880157470703\n",
      "5 mean val RMSE: 0.23381618337270624\n",
      "Time lapsed 3.9529800415039062\n",
      "10 mean val RMSE: 0.230083374166353\n",
      "Time lapsed 3.788471221923828\n",
      "20 mean val RMSE: 0.2223214026672462\n",
      "Time lapsed 3.9153099060058594\n",
      "25 mean val RMSE: 0.21664322284679627\n",
      "Time lapsed 4.041433334350586\n"
     ]
    }
   ],
   "source": [
    "nn_params = [3, 5, 10, 20, 25]\n",
    "regressor, best_err = knn.knn_model_selection(train_x1, train_y, nn_params)"
   ]
  },
  {
   "cell_type": "code",
   "execution_count": 20,
   "id": "floating-helena",
   "metadata": {
    "scrolled": false
   },
   "outputs": [
    {
     "data": {
      "image/png": "[encoded data removed]",
      "text/plain": [
       "<Figure size 1440x720 with 1 Axes>"
      ]
     },
     "metadata": {
      "needs_background": "light"
     },
     "output_type": "display_data"
    }
   ],
   "source": [
    "y_hat = regressor.fit(train_x1, train_y).predict(test_x1)\n",
    "plt.plot(y_hat[:], label=\"estmated\")\n",
    "plt.plot(test_y[:], label=\"real\")\n",
    "plt.legend(bbox_to_anchor=(0., 1.02, 1., .102), loc='lower left',\n",
    "           ncol=2, mode=\"expand\", borderaxespad=0.)\n",
    "plt.show()"
   ]
  }
 ],
 "metadata": {
  "kernelspec": {
   "display_name": "tensorflow",
   "language": "python",
   "name": "tensorflow"
  },
  "language_info": {
   "codemirror_mode": {
    "name": "ipython",
    "version": 3
   },
   "file_extension": ".py",
   "mimetype": "text/x-python",
   "name": "python",
   "nbconvert_exporter": "python",
   "pygments_lexer": "ipython3",
   "version": "3.8.5"
  }
 },
 "nbformat": 4,
 "nbformat_minor": 5
}
