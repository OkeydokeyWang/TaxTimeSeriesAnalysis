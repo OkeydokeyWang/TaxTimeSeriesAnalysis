{
 "cells": [
  {
   "cell_type": "code",
   "execution_count": 1,
   "id": "facial-peter",
   "metadata": {},
   "outputs": [],
   "source": [
    "import tensorflow as tf\n",
    "gpus = tf.config.experimental.list_physical_devices('GPU')\n",
    "if gpus:\n",
    "    try:\n",
    "        for gpu in gpus:\n",
    "            tf.config.experimental.set_memory_growth(gpu, True)\n",
    "\n",
    "    except RuntimeError as e:\n",
    "        print(e)"
   ]
  },
  {
   "cell_type": "code",
   "execution_count": 2,
   "id": "quarterly-charlotte",
   "metadata": {},
   "outputs": [],
   "source": [
    "import dataloader\n",
    "import utils\n",
    "import cnnlstm\n",
    "from utils import mae, rmse\n",
    "\n",
    "import sys\n",
    "import time\n",
    "import pandas as pd\n",
    "import numpy as np\n",
    "import datetime\n",
    "from matplotlib import pyplot as plt\n",
    "import gc\n",
    "\n",
    "from keras.models import Sequential\n",
    "from keras.layers import Dense, Conv1D, MaxPooling1D, RepeatVector\n",
    "from keras.wrappers.scikit_learn import KerasRegressor\n",
    "from sklearn.model_selection import cross_val_score\n",
    "from sklearn.model_selection import KFold\n",
    "from sklearn.preprocessing import StandardScaler\n",
    "from sklearn.pipeline import Pipeline\n",
    "#importing required libraries\n",
    "from keras.models import Sequential\n",
    "from keras.layers import Dense, Dropout, LSTM, Flatten, TimeDistributed\n",
    "\n",
    "from matplotlib import pyplot as plt\n",
    "plt.rcParams[\"figure.figsize\"] = (20,10)\n",
    "\n",
    "# Model Data range\n",
    "date = datetime.datetime(2021,3,12)\n",
    "# Total entry count\n",
    "count = 1200\n",
    "# Training entry count\n",
    "training_count = 1000\n",
    "history_size = 30\n",
    "\n",
    "%load_ext autoreload\n",
    "%autoreload 2"
   ]
  },
  {
   "cell_type": "markdown",
   "id": "chief-encyclopedia",
   "metadata": {},
   "source": [
    "# Amazon"
   ]
  },
  {
   "cell_type": "code",
   "execution_count": 3,
   "id": "invisible-gather",
   "metadata": {},
   "outputs": [
    {
     "name": "stdout",
     "output_type": "stream",
     "text": [
      "(1258, 7)\n",
      "(1258, 7)\n",
      "(1257, 7)\n",
      "(1257, 7)\n",
      "(1200, 7)\n",
      "(970, 30, 1)\n",
      "(200, 30, 1)\n"
     ]
    }
   ],
   "source": [
    "path = \"../032721Comparison/Data/AMZN2021.csv\"\n",
    "# Load data\n",
    "train_x, train_y, test_x, test_y = utils.get_train_and_test_set(\n",
    "    path, date, count, history_size, training_count\n",
    ")"
   ]
  },
  {
   "cell_type": "code",
   "execution_count": 5,
   "id": "invisible-calculation",
   "metadata": {},
   "outputs": [
    {
     "name": "stdout",
     "output_type": "stream",
     "text": [
      "2 2 30 mean val RMSE: 0.027724670035442534\n",
      "2 2 35 mean val RMSE: 0.1526814417766752\n",
      "2 2 40 mean val RMSE: 0.08628226291842869\n",
      "2 2 45 mean val RMSE: 0.0838035975920473\n",
      "2 2 50 mean val RMSE: 0.09666126860656044\n",
      "2 2 55 mean val RMSE: 0.10664819412630719\n",
      "2 4 30 mean val RMSE: 0.08277936914861084\n",
      "2 4 35 mean val RMSE: 0.053574475843621336\n",
      "2 4 40 mean val RMSE: 0.08186696167017887\n",
      "2 4 45 mean val RMSE: 0.0339349717052486\n",
      "2 4 50 mean val RMSE: 0.11336066802754922\n",
      "2 4 55 mean val RMSE: 0.0859515602062976\n",
      "2 8 30 mean val RMSE: 0.08753010872238667\n",
      "2 8 35 mean val RMSE: 0.053925640607699124\n",
      "2 8 40 mean val RMSE: 0.1109304549625997\n",
      "2 8 45 mean val RMSE: 0.13404158422011495\n",
      "2 8 50 mean val RMSE: 0.12645761930326344\n",
      "2 8 55 mean val RMSE: 0.05435119026822499\n",
      "4 2 30 mean val RMSE: 0.0485052398796759\n",
      "4 2 35 mean val RMSE: 0.0757101552807605\n",
      "4 2 40 mean val RMSE: 0.020744563042618906\n",
      "4 2 45 mean val RMSE: 0.05075335072981466\n",
      "4 2 50 mean val RMSE: 0.10203210335338948\n",
      "4 2 55 mean val RMSE: 0.029801772770326092\n",
      "4 4 30 mean val RMSE: 0.033653419771833795\n",
      "4 4 35 mean val RMSE: 0.033911216150777974\n",
      "4 4 40 mean val RMSE: 0.03141071909162959\n",
      "4 4 45 mean val RMSE: 0.07661578788297466\n",
      "4 4 50 mean val RMSE: 0.04528471040719191\n",
      "4 4 55 mean val RMSE: 0.024840939249244878\n",
      "4 8 30 mean val RMSE: 0.06400839831841129\n",
      "4 8 35 mean val RMSE: 0.03419790554445935\n",
      "4 8 40 mean val RMSE: 0.054965036515465436\n",
      "4 8 45 mean val RMSE: 0.023854631848461125\n",
      "4 8 50 mean val RMSE: 0.06206286124020853\n",
      "4 8 55 mean val RMSE: 0.03442958767433386\n",
      "8 2 30 mean val RMSE: 0.0252616227234517\n",
      "8 2 35 mean val RMSE: 0.02941290609049782\n",
      "8 2 40 mean val RMSE: 0.020345189644420107\n",
      "8 2 45 mean val RMSE: 0.028468517166958657\n",
      "8 2 50 mean val RMSE: 0.027235584564998534\n",
      "8 2 55 mean val RMSE: 0.02183341253091909\n",
      "8 4 30 mean val RMSE: 0.02761559219962607\n",
      "8 4 35 mean val RMSE: 0.022327795395178353\n",
      "8 4 40 mean val RMSE: 0.02651352828694576\n",
      "8 4 45 mean val RMSE: 0.025085940338487288\n",
      "8 4 50 mean val RMSE: 0.02582568395112337\n",
      "8 4 55 mean val RMSE: 0.024437697363620663\n",
      "8 8 30 mean val RMSE: 0.02864124374001406\n",
      "8 8 35 mean val RMSE: 0.03457661259249891\n",
      "8 8 40 mean val RMSE: 0.03030960151736244\n",
      "8 8 45 mean val RMSE: 0.02816006422639634\n",
      "8 8 50 mean val RMSE: 0.027879965951913145\n",
      "8 8 55 mean val RMSE: 0.03202240967651664\n",
      "16 2 30 mean val RMSE: 0.02157745179876862\n",
      "16 2 35 mean val RMSE: 0.02080950742946845\n",
      "16 2 40 mean val RMSE: 0.018406240444892485\n",
      "16 2 45 mean val RMSE: 0.02517434866723749\n",
      "16 2 50 mean val RMSE: 0.023475354795181914\n",
      "16 2 55 mean val RMSE: 0.019024239549044326\n",
      "16 4 30 mean val RMSE: 0.02481812638362314\n",
      "16 4 35 mean val RMSE: 0.022623317891440415\n",
      "16 4 40 mean val RMSE: 0.026065860041522927\n",
      "16 4 45 mean val RMSE: 0.02418395968274317\n",
      "16 4 50 mean val RMSE: 0.02354025825291257\n",
      "16 4 55 mean val RMSE: 0.020363512397814778\n",
      "16 8 30 mean val RMSE: 0.026932492702276913\n",
      "16 8 35 mean val RMSE: 0.026140275288635984\n",
      "16 8 40 mean val RMSE: 0.027689751200800073\n",
      "16 8 45 mean val RMSE: 0.024653110895536033\n",
      "16 8 50 mean val RMSE: 0.027963338796818747\n",
      "16 8 55 mean val RMSE: 0.030206943014908755\n",
      "(16, 2, 40) 0.018406240444892485\n"
     ]
    }
   ],
   "source": [
    "unit_params = range(30, 60, 5)\n",
    "filter_params = [2, 4, 8, 16]\n",
    "kernel_params = [2, 4, 8]\n",
    "best_config, best_err = cnnlstm.cnnlstm_model_selection(train_x, train_y, unit_params, filter_params, kernel_params)\n",
    "print(best_config, best_err)"
   ]
  },
  {
   "cell_type": "code",
   "execution_count": 6,
   "id": "western-breath",
   "metadata": {},
   "outputs": [
    {
     "name": "stdout",
     "output_type": "stream",
     "text": [
      "Epoch 1/100\n",
      "31/31 [==============================] - 0s 5ms/step - loss: 0.0275\n",
      "Epoch 2/100\n",
      "31/31 [==============================] - 0s 4ms/step - loss: 0.0029\n",
      "Epoch 3/100\n",
      "31/31 [==============================] - 0s 4ms/step - loss: 9.6688e-04\n",
      "Epoch 4/100\n",
      "31/31 [==============================] - 0s 4ms/step - loss: 8.3671e-04\n",
      "Epoch 5/100\n",
      "31/31 [==============================] - 0s 4ms/step - loss: 7.9268e-04\n",
      "Epoch 6/100\n",
      "31/31 [==============================] - 0s 4ms/step - loss: 7.6505e-04\n",
      "Epoch 7/100\n",
      "31/31 [==============================] - 0s 4ms/step - loss: 7.1548e-04\n",
      "Epoch 8/100\n",
      "31/31 [==============================] - 0s 4ms/step - loss: 7.0069e-04\n",
      "Epoch 9/100\n",
      "31/31 [==============================] - 0s 4ms/step - loss: 6.4559e-04\n",
      "Epoch 10/100\n",
      "31/31 [==============================] - 0s 4ms/step - loss: 6.0818e-04\n",
      "Epoch 11/100\n",
      "31/31 [==============================] - 0s 4ms/step - loss: 5.9093e-04\n",
      "Epoch 12/100\n",
      "31/31 [==============================] - 0s 4ms/step - loss: 5.3506e-04\n",
      "Epoch 13/100\n",
      "31/31 [==============================] - 0s 4ms/step - loss: 4.8716e-04\n",
      "Epoch 14/100\n",
      "31/31 [==============================] - 0s 4ms/step - loss: 4.4085e-04\n",
      "Epoch 15/100\n",
      "31/31 [==============================] - 0s 4ms/step - loss: 3.9623e-04\n",
      "Epoch 16/100\n",
      "31/31 [==============================] - 0s 4ms/step - loss: 3.6104e-04\n",
      "Epoch 17/100\n",
      "31/31 [==============================] - 0s 4ms/step - loss: 3.4583e-04\n",
      "Epoch 18/100\n",
      "31/31 [==============================] - 0s 4ms/step - loss: 3.6421e-04\n",
      "Epoch 19/100\n",
      "31/31 [==============================] - 0s 4ms/step - loss: 3.5629e-04\n",
      "Epoch 20/100\n",
      "31/31 [==============================] - 0s 4ms/step - loss: 3.1536e-04\n",
      "Epoch 21/100\n",
      "31/31 [==============================] - 0s 4ms/step - loss: 2.9470e-04\n",
      "Epoch 22/100\n",
      "31/31 [==============================] - 0s 4ms/step - loss: 2.8363e-04\n",
      "Epoch 23/100\n",
      "31/31 [==============================] - 0s 4ms/step - loss: 3.2763e-04\n",
      "Epoch 24/100\n",
      "31/31 [==============================] - 0s 4ms/step - loss: 2.7543e-04\n",
      "Epoch 25/100\n",
      "31/31 [==============================] - 0s 4ms/step - loss: 2.6910e-04\n",
      "Epoch 26/100\n",
      "31/31 [==============================] - 0s 4ms/step - loss: 2.8478e-04\n",
      "Epoch 27/100\n",
      "31/31 [==============================] - 0s 4ms/step - loss: 2.4891e-04\n",
      "Epoch 28/100\n",
      "31/31 [==============================] - 0s 4ms/step - loss: 2.4193e-04\n",
      "Epoch 29/100\n",
      "31/31 [==============================] - 0s 4ms/step - loss: 2.4646e-04\n",
      "Epoch 30/100\n",
      "31/31 [==============================] - 0s 4ms/step - loss: 2.3618e-04\n",
      "Epoch 31/100\n",
      "31/31 [==============================] - 0s 4ms/step - loss: 2.8412e-04\n",
      "Epoch 32/100\n",
      "31/31 [==============================] - 0s 4ms/step - loss: 2.3234e-04\n",
      "Epoch 33/100\n",
      "31/31 [==============================] - 0s 4ms/step - loss: 2.2831e-04\n",
      "Epoch 34/100\n",
      "31/31 [==============================] - 0s 4ms/step - loss: 2.4534e-04\n",
      "Epoch 35/100\n",
      "31/31 [==============================] - 0s 4ms/step - loss: 2.1433e-04\n",
      "Epoch 36/100\n",
      "31/31 [==============================] - 0s 4ms/step - loss: 2.3168e-04\n",
      "Epoch 37/100\n",
      "31/31 [==============================] - 0s 4ms/step - loss: 2.0840e-04\n",
      "Epoch 38/100\n",
      "31/31 [==============================] - 0s 4ms/step - loss: 2.2386e-04\n",
      "Epoch 39/100\n",
      "31/31 [==============================] - 0s 4ms/step - loss: 2.2097e-04\n",
      "Epoch 40/100\n",
      "31/31 [==============================] - 0s 4ms/step - loss: 2.1662e-04\n",
      "Epoch 41/100\n",
      "31/31 [==============================] - 0s 4ms/step - loss: 2.0442e-04\n",
      "Epoch 42/100\n",
      "31/31 [==============================] - 0s 4ms/step - loss: 2.4629e-04\n",
      "Epoch 43/100\n",
      "31/31 [==============================] - 0s 4ms/step - loss: 2.5879e-04\n",
      "Epoch 44/100\n",
      "31/31 [==============================] - 0s 4ms/step - loss: 2.1772e-04\n",
      "Epoch 45/100\n",
      "31/31 [==============================] - 0s 4ms/step - loss: 1.9339e-04\n",
      "Epoch 46/100\n",
      "31/31 [==============================] - 0s 4ms/step - loss: 2.0523e-04\n",
      "Epoch 47/100\n",
      "31/31 [==============================] - 0s 4ms/step - loss: 2.0431e-04\n",
      "Epoch 48/100\n",
      "31/31 [==============================] - 0s 4ms/step - loss: 1.8381e-04\n",
      "Epoch 49/100\n",
      "31/31 [==============================] - 0s 4ms/step - loss: 1.8247e-04\n",
      "Epoch 50/100\n",
      "31/31 [==============================] - 0s 4ms/step - loss: 1.8338e-04\n",
      "Epoch 51/100\n",
      "31/31 [==============================] - 0s 4ms/step - loss: 2.2998e-04\n",
      "Epoch 52/100\n",
      "31/31 [==============================] - 0s 4ms/step - loss: 1.9664e-04\n",
      "Epoch 53/100\n",
      "31/31 [==============================] - 0s 4ms/step - loss: 1.9378e-04\n",
      "Epoch 54/100\n",
      "31/31 [==============================] - 0s 4ms/step - loss: 2.1944e-04\n",
      "Epoch 55/100\n",
      "31/31 [==============================] - 0s 4ms/step - loss: 2.2507e-04\n",
      "Epoch 56/100\n",
      "31/31 [==============================] - 0s 4ms/step - loss: 1.6999e-04\n",
      "Epoch 57/100\n",
      "31/31 [==============================] - 0s 4ms/step - loss: 1.9211e-04\n",
      "Epoch 58/100\n",
      "31/31 [==============================] - 0s 4ms/step - loss: 1.6957e-04\n",
      "Epoch 59/100\n",
      "31/31 [==============================] - 0s 4ms/step - loss: 1.9861e-04\n",
      "Epoch 60/100\n",
      "31/31 [==============================] - 0s 4ms/step - loss: 1.7473e-04\n",
      "Epoch 61/100\n",
      "31/31 [==============================] - 0s 4ms/step - loss: 1.7721e-04\n",
      "Epoch 62/100\n",
      "31/31 [==============================] - 0s 4ms/step - loss: 1.7149e-04\n",
      "Epoch 63/100\n",
      "31/31 [==============================] - 0s 4ms/step - loss: 1.9493e-04\n",
      "Epoch 64/100\n",
      "31/31 [==============================] - 0s 4ms/step - loss: 2.1431e-04\n",
      "Epoch 65/100\n",
      "31/31 [==============================] - 0s 4ms/step - loss: 1.8539e-04\n",
      "Epoch 66/100\n",
      "31/31 [==============================] - 0s 4ms/step - loss: 1.6157e-04\n",
      "Epoch 67/100\n",
      "31/31 [==============================] - 0s 4ms/step - loss: 1.7745e-04\n",
      "Epoch 68/100\n",
      "31/31 [==============================] - 0s 4ms/step - loss: 2.0108e-04\n",
      "Epoch 69/100\n",
      "31/31 [==============================] - 0s 4ms/step - loss: 1.8147e-04\n",
      "Epoch 70/100\n",
      "31/31 [==============================] - 0s 4ms/step - loss: 1.6032e-04\n",
      "Epoch 71/100\n",
      "31/31 [==============================] - 0s 4ms/step - loss: 1.4584e-04\n",
      "Epoch 72/100\n",
      "31/31 [==============================] - 0s 4ms/step - loss: 1.6410e-04\n",
      "Epoch 73/100\n",
      "31/31 [==============================] - 0s 4ms/step - loss: 1.7235e-04\n",
      "Epoch 74/100\n",
      "31/31 [==============================] - 0s 4ms/step - loss: 1.4897e-04\n",
      "Epoch 75/100\n",
      "31/31 [==============================] - 0s 4ms/step - loss: 1.4830e-04\n",
      "Epoch 76/100\n",
      "31/31 [==============================] - 0s 4ms/step - loss: 1.6490e-04\n",
      "Epoch 77/100\n",
      "31/31 [==============================] - 0s 4ms/step - loss: 1.6775e-04\n",
      "Epoch 78/100\n",
      "31/31 [==============================] - 0s 4ms/step - loss: 1.3715e-04\n",
      "Epoch 79/100\n",
      "31/31 [==============================] - 0s 4ms/step - loss: 1.4721e-04\n",
      "Epoch 80/100\n",
      "31/31 [==============================] - 0s 4ms/step - loss: 1.7568e-04\n",
      "Epoch 81/100\n",
      "31/31 [==============================] - 0s 4ms/step - loss: 1.8689e-04\n",
      "Epoch 82/100\n",
      "31/31 [==============================] - 0s 4ms/step - loss: 1.5505e-04\n",
      "Epoch 83/100\n",
      "31/31 [==============================] - 0s 4ms/step - loss: 1.4942e-04\n",
      "Epoch 84/100\n",
      "31/31 [==============================] - 0s 4ms/step - loss: 1.5140e-04\n",
      "Epoch 85/100\n",
      "31/31 [==============================] - 0s 4ms/step - loss: 1.8993e-04\n",
      "Epoch 86/100\n",
      "31/31 [==============================] - 0s 4ms/step - loss: 1.6578e-04\n",
      "Epoch 87/100\n",
      "31/31 [==============================] - 0s 4ms/step - loss: 1.5481e-04\n",
      "Epoch 88/100\n",
      "31/31 [==============================] - 0s 4ms/step - loss: 1.3749e-04\n",
      "Epoch 89/100\n",
      "31/31 [==============================] - 0s 4ms/step - loss: 1.4566e-04\n",
      "Epoch 90/100\n",
      "31/31 [==============================] - 0s 4ms/step - loss: 1.5061e-04\n",
      "Epoch 91/100\n",
      "31/31 [==============================] - 0s 4ms/step - loss: 1.5883e-04\n",
      "Epoch 92/100\n",
      "31/31 [==============================] - 0s 4ms/step - loss: 1.3197e-04\n",
      "Epoch 93/100\n",
      "31/31 [==============================] - 0s 4ms/step - loss: 1.6391e-04\n",
      "Epoch 94/100\n",
      "31/31 [==============================] - 0s 4ms/step - loss: 1.8275e-04\n",
      "Epoch 95/100\n",
      "31/31 [==============================] - 0s 4ms/step - loss: 1.8126e-04\n",
      "Epoch 96/100\n",
      "31/31 [==============================] - 0s 4ms/step - loss: 1.4207e-04\n",
      "Epoch 97/100\n"
     ]
    },
    {
     "name": "stdout",
     "output_type": "stream",
     "text": [
      "31/31 [==============================] - 0s 4ms/step - loss: 1.5273e-04\n",
      "Epoch 98/100\n",
      "31/31 [==============================] - 0s 4ms/step - loss: 1.3696e-04\n",
      "Epoch 99/100\n",
      "31/31 [==============================] - 0s 4ms/step - loss: 1.3106e-04\n",
      "Epoch 100/100\n",
      "31/31 [==============================] - 0s 4ms/step - loss: 1.2646e-04\n",
      "Model: \"sequential_451\"\n",
      "_________________________________________________________________\n",
      "Layer (type)                 Output Shape              Param #   \n",
      "=================================================================\n",
      "conv1d_902 (Conv1D)          (None, 29, 16)            48        \n",
      "_________________________________________________________________\n",
      "conv1d_903 (Conv1D)          (None, 28, 16)            528       \n",
      "_________________________________________________________________\n",
      "max_pooling1d_450 (MaxPoolin (None, 14, 16)            0         \n",
      "_________________________________________________________________\n",
      "flatten_900 (Flatten)        (None, 224)               0         \n",
      "_________________________________________________________________\n",
      "repeat_vector_450 (RepeatVec (None, 1, 224)            0         \n",
      "_________________________________________________________________\n",
      "lstm_450 (LSTM)              (None, 1, 40)             42400     \n",
      "_________________________________________________________________\n",
      "flatten_901 (Flatten)        (None, 40)                0         \n",
      "_________________________________________________________________\n",
      "dense_900 (Dense)            (None, 40)                1640      \n",
      "_________________________________________________________________\n",
      "dense_901 (Dense)            (None, 1)                 41        \n",
      "=================================================================\n",
      "Total params: 44,657\n",
      "Trainable params: 44,657\n",
      "Non-trainable params: 0\n",
      "_________________________________________________________________\n",
      "None\n"
     ]
    },
    {
     "data": {
      "text/plain": [
       "20723"
      ]
     },
     "execution_count": 6,
     "metadata": {},
     "output_type": "execute_result"
    }
   ],
   "source": [
    "model = None\n",
    "gc.collect()\n",
    "\n",
    "filter_size, kernel_size, unit_count = best_config\n",
    "\n",
    "model = cnnlstm.cnnlstm_model(test_x, filter_size, kernel_size, unit_count)\n",
    "model.fit(train_x, train_y, epochs=100, batch_size=32, verbose=1)\n",
    "print(model.summary())\n",
    "y_hat = model.predict(test_x).transpose()[0]\n",
    "\n",
    "del model\n",
    "gc.collect()"
   ]
  },
  {
   "cell_type": "code",
   "execution_count": 7,
   "id": "eight-bread",
   "metadata": {},
   "outputs": [
    {
     "data": {
      "image/png": "[encoded data removed]",
      "text/plain": [
       "<Figure size 1440x720 with 1 Axes>"
      ]
     },
     "metadata": {
      "needs_background": "light"
     },
     "output_type": "display_data"
    }
   ],
   "source": [
    "plt.plot(y_hat[:], label=\"estmated SP\")\n",
    "plt.plot(test_y[:], label=\"real SP\")\n",
    "plt.legend(bbox_to_anchor=(0., 1.02, 1., .102), loc='lower left',\n",
    "           ncol=2, mode=\"expand\", borderaxespad=0.)\n",
    "plt.show()"
   ]
  },
  {
   "cell_type": "code",
   "execution_count": 8,
   "id": "simplified-region",
   "metadata": {
    "scrolled": true
   },
   "outputs": [
    {
     "name": "stdout",
     "output_type": "stream",
     "text": [
      "MAE:   0.030396347472472593\n",
      "RMSE:  0.036921448983157544\n"
     ]
    }
   ],
   "source": [
    "print(\"MAE:  \", mae(y_hat, test_y))\n",
    "print(\"RMSE: \", rmse(y_hat, test_y))"
   ]
  },
  {
   "cell_type": "markdown",
   "id": "whole-enterprise",
   "metadata": {},
   "source": [
    "# SONY"
   ]
  },
  {
   "cell_type": "code",
   "execution_count": null,
   "id": "affecting-calibration",
   "metadata": {},
   "outputs": [],
   "source": [
    "path = \"../032721Comparison/Data/SONY2021.csv\"\n",
    "# Load data\n",
    "train_x, train_y, test_x, test_y = utils.get_train_and_test_set(\n",
    "    path, date, count, history_size, training_count\n",
    ")"
   ]
  },
  {
   "cell_type": "code",
   "execution_count": null,
   "id": "spatial-angola",
   "metadata": {},
   "outputs": [],
   "source": [
    "unit_params = range(30, 60, 5)\n",
    "filter_params = [2, 4, 8, 16]\n",
    "kernel_params = [2, 4, 8, 16]\n",
    "best_config, best_err = cnnlstm.cnnlstm_model_selection(train_x, train_y, unit_params, filter_params, kernel_params)\n",
    "print(best_config, best_err)"
   ]
  },
  {
   "cell_type": "code",
   "execution_count": null,
   "id": "sapphire-costs",
   "metadata": {},
   "outputs": [],
   "source": [
    "model = None\n",
    "gc.collect()\n",
    "\n",
    "filter_size, kernel_size, unit_count = best_config\n",
    "\n",
    "model = cnnlstm.cnnlstm_model(test_x, filter_size, kernel_size, unit_count)\n",
    "model.fit(train_x, train_y, epochs=100, batch_size=32, verbose=1)\n",
    "print(model.summary())\n",
    "y_hat = model.predict(test_x).transpose()[0]\n",
    "\n",
    "del model\n",
    "gc.collect()"
   ]
  },
  {
   "cell_type": "code",
   "execution_count": null,
   "id": "spiritual-management",
   "metadata": {},
   "outputs": [],
   "source": [
    "plt.plot(y_hat[:], label=\"estmated SP\")\n",
    "plt.plot(test_y[:], label=\"real SP\")\n",
    "plt.legend(bbox_to_anchor=(0., 1.02, 1., .102), loc='lower left',\n",
    "           ncol=2, mode=\"expand\", borderaxespad=0.)\n",
    "plt.show()"
   ]
  },
  {
   "cell_type": "code",
   "execution_count": null,
   "id": "mexican-aruba",
   "metadata": {
    "scrolled": true
   },
   "outputs": [],
   "source": [
    "print(\"MAE:  \", mae(y_hat, test_y))\n",
    "print(\"RMSE: \", rmse(y_hat, test_y))"
   ]
  },
  {
   "cell_type": "markdown",
   "id": "moral-wisdom",
   "metadata": {},
   "source": [
    "# IBIO"
   ]
  },
  {
   "cell_type": "code",
   "execution_count": null,
   "id": "organic-authority",
   "metadata": {},
   "outputs": [],
   "source": [
    "path = \"../032721Comparison/Data/IBIO2021.csv\"\n",
    "# Load data\n",
    "train_x, train_y, test_x, test_y = utils.get_train_and_test_set(\n",
    "    path, date, count, history_size, training_count\n",
    ")"
   ]
  },
  {
   "cell_type": "code",
   "execution_count": null,
   "id": "whole-little",
   "metadata": {},
   "outputs": [],
   "source": [
    "unit_params = range(30, 60, 5)\n",
    "filter_params = [2, 4, 8, 16]\n",
    "kernel_params = [2, 4, 8, 16]\n",
    "best_config, best_err = cnnlstm.cnnlstm_model_selection(train_x, train_y, unit_params, filter_params, kernel_params)\n",
    "print(best_config, best_err)"
   ]
  },
  {
   "cell_type": "code",
   "execution_count": null,
   "id": "applicable-mongolia",
   "metadata": {},
   "outputs": [],
   "source": [
    "model = None\n",
    "gc.collect()\n",
    "\n",
    "filter_size, kernel_size, unit_count = best_config\n",
    "\n",
    "model = cnnlstm.cnnlstm_model(test_x, filter_size, kernel_size, unit_count)\n",
    "model.fit(train_x, train_y, epochs=100, batch_size=32, verbose=1)\n",
    "print(model.summary())\n",
    "y_hat = model.predict(test_x).transpose()[0]\n",
    "\n",
    "del model\n",
    "gc.collect()"
   ]
  },
  {
   "cell_type": "code",
   "execution_count": null,
   "id": "taken-berlin",
   "metadata": {},
   "outputs": [],
   "source": [
    "plt.plot(y_hat[:], label=\"estmated SP\")\n",
    "plt.plot(test_y[:], label=\"real SP\")\n",
    "plt.legend(bbox_to_anchor=(0., 1.02, 1., .102), loc='lower left',\n",
    "           ncol=2, mode=\"expand\", borderaxespad=0.)\n",
    "plt.show()"
   ]
  },
  {
   "cell_type": "code",
   "execution_count": null,
   "id": "intended-pressing",
   "metadata": {
    "scrolled": true
   },
   "outputs": [],
   "source": [
    "print(\"MAE:  \", mae(y_hat, test_y))\n",
    "print(\"RMSE: \", rmse(y_hat, test_y))"
   ]
  },
  {
   "cell_type": "code",
   "execution_count": null,
   "id": "compliant-adult",
   "metadata": {},
   "outputs": [],
   "source": []
  },
  {
   "cell_type": "code",
   "execution_count": null,
   "id": "wound-brother",
   "metadata": {},
   "outputs": [],
   "source": []
  }
 ],
 "metadata": {
  "kernelspec": {
   "display_name": "tensorflow",
   "language": "python",
   "name": "tensorflow"
  },
  "language_info": {
   "codemirror_mode": {
    "name": "ipython",
    "version": 3
   },
   "file_extension": ".py",
   "mimetype": "text/x-python",
   "name": "python",
   "nbconvert_exporter": "python",
   "pygments_lexer": "ipython3",
   "version": "3.8.5"
  }
 },
 "nbformat": 4,
 "nbformat_minor": 5
}
