{
 "cells": [
  {
   "cell_type": "code",
   "execution_count": 1,
   "metadata": {},
   "outputs": [
    {
     "name": "stdout",
     "output_type": "stream",
     "text": [
      "hello\n"
     ]
    }
   ],
   "source": [
    "print(\"hello\")"
   ]
  },
  {
   "cell_type": "code",
   "execution_count": 8,
   "metadata": {},
   "outputs": [],
   "source": [
    "import pandas as pd\n",
    "import numpy as np"
   ]
  },
  {
   "cell_type": "code",
   "execution_count": 9,
   "metadata": {},
   "outputs": [
    {
     "name": "stdout",
     "output_type": "stream",
     "text": [
      "0 -inf\n",
      "1 0.0\n",
      "2 0.6931471805599453\n",
      "3 1.0986122886681098\n",
      "4 1.3862943611198906\n",
      "5 1.6094379124341003\n",
      "6 1.791759469228055\n",
      "7 1.9459101490553132\n",
      "8 2.0794415416798357\n",
      "9 2.1972245773362196\n",
      "10 2.302585092994046\n",
      "11 2.3978952727983707\n",
      "12 2.4849066497880004\n",
      "13 2.5649493574615367\n",
      "14 2.6390573296152584\n",
      "15 2.70805020110221\n",
      "16 2.772588722239781\n",
      "17 2.833213344056216\n",
      "18 2.8903717578961645\n",
      "19 2.9444389791664403\n"
     ]
    },
    {
     "name": "stderr",
     "output_type": "stream",
     "text": [
      "/home/will/anaconda3/lib/python3.7/site-packages/ipykernel_launcher.py:2: RuntimeWarning: divide by zero encountered in log\n",
      "  \n"
     ]
    }
   ],
   "source": [
    "for i in range(20):\n",
    "    print(i, np.log(i))"
   ]
  },
  {
   "cell_type": "code",
   "execution_count": 10,
   "metadata": {},
   "outputs": [
    {
     "name": "stdout",
     "output_type": "stream",
     "text": [
      "0 1.0\n",
      "1 2.718281828459045\n",
      "2 7.38905609893065\n",
      "3 20.085536923187668\n",
      "4 54.598150033144236\n",
      "5 148.4131591025766\n",
      "6 403.4287934927351\n",
      "7 1096.6331584284585\n",
      "8 2980.9579870417283\n",
      "9 8103.083927575384\n",
      "10 22026.465794806718\n",
      "11 59874.14171519782\n",
      "12 162754.79141900392\n",
      "13 442413.3920089205\n",
      "14 1202604.2841647768\n",
      "15 3269017.3724721107\n",
      "16 8886110.520507872\n",
      "17 24154952.7535753\n",
      "18 65659969.13733051\n",
      "19 178482300.96318725\n"
     ]
    }
   ],
   "source": [
    "for i in range(20):\n",
    "    print(i, np.exp(i))"
   ]
  },
  {
   "cell_type": "code",
   "execution_count": null,
   "metadata": {},
   "outputs": [],
   "source": []
  }
 ],
 "metadata": {
  "kernelspec": {
   "display_name": "Python 3",
   "language": "python",
   "name": "python3"
  },
  "language_info": {
   "codemirror_mode": {
    "name": "ipython",
    "version": 3
   },
   "file_extension": ".py",
   "mimetype": "text/x-python",
   "name": "python",
   "nbconvert_exporter": "python",
   "pygments_lexer": "ipython3",
   "version": "3.7.4"
  }
 },
 "nbformat": 4,
 "nbformat_minor": 2
}
