{
 "cells": [
  {
   "cell_type": "code",
   "execution_count": 2,
   "metadata": {},
   "outputs": [],
   "source": [
    "import pandas as pd\n",
    "import sys\n",
    "import time"
   ]
  },
  {
   "cell_type": "markdown",
   "metadata": {},
   "source": [
    "# Load Feature 1 euro exchange rate from CSV"
   ]
  },
  {
   "cell_type": "code",
   "execution_count": 3,
   "metadata": {},
   "outputs": [],
   "source": [
    "df = pd.read_csv(\"./independendt projecct/euro_exchange_rate.csv\")"
   ]
  },
  {
   "cell_type": "code",
   "execution_count": 4,
   "metadata": {},
   "outputs": [
    {
     "data": {
      "text/plain": [
       "pandas.core.frame.DataFrame"
      ]
     },
     "execution_count": 4,
     "metadata": {},
     "output_type": "execute_result"
    }
   ],
   "source": [
    "type(df)"
   ]
  },
  {
   "cell_type": "code",
   "execution_count": 5,
   "metadata": {},
   "outputs": [],
   "source": [
    "# df 前7行去掉 9.30.2019\n",
    "df = df.iloc[7:,]"
   ]
  },
  {
   "cell_type": "code",
   "execution_count": 6,
   "metadata": {},
   "outputs": [
    {
     "data": {
      "text/html": [
       "<div>\n",
       "<style scoped>\n",
       "    .dataframe tbody tr th:only-of-type {\n",
       "        vertical-align: middle;\n",
       "    }\n",
       "\n",
       "    .dataframe tbody tr th {\n",
       "        vertical-align: top;\n",
       "    }\n",
       "\n",
       "    .dataframe thead th {\n",
       "        text-align: right;\n",
       "    }\n",
       "</style>\n",
       "<table border=\"1\" class=\"dataframe\">\n",
       "  <thead>\n",
       "    <tr style=\"text-align: right;\">\n",
       "      <th></th>\n",
       "      <th>Data Source in SDW: http://sdw.ecb.europa.eu/quickview.do;jsessionid=397A29BB2F1436B9AB6FAEE7A6C2F6BB?SERIES_KEY=120.EXR.D.E5.EUR.EN00.A&amp;start=03-10-2014&amp;end=10-10-2019&amp;submitOptions.x=0&amp;submitOptions.y=0&amp;trans=N</th>\n",
       "    </tr>\n",
       "  </thead>\n",
       "  <tbody>\n",
       "    <tr>\n",
       "      <th>2019-09-30</th>\n",
       "      <td>96.9520</td>\n",
       "    </tr>\n",
       "    <tr>\n",
       "      <th>2019-09-27</th>\n",
       "      <td>97.1966</td>\n",
       "    </tr>\n",
       "    <tr>\n",
       "      <th>2019-09-26</th>\n",
       "      <td>97.1416</td>\n",
       "    </tr>\n",
       "    <tr>\n",
       "      <th>2019-09-25</th>\n",
       "      <td>97.3576</td>\n",
       "    </tr>\n",
       "    <tr>\n",
       "      <th>2019-09-24</th>\n",
       "      <td>97.3220</td>\n",
       "    </tr>\n",
       "  </tbody>\n",
       "</table>\n",
       "</div>"
      ],
      "text/plain": [
       "           Data Source in SDW: http://sdw.ecb.europa.eu/quickview.do;jsessionid=397A29BB2F1436B9AB6FAEE7A6C2F6BB?SERIES_KEY=120.EXR.D.E5.EUR.EN00.A&start=03-10-2014&end=10-10-2019&submitOptions.x=0&submitOptions.y=0&trans=N\n",
       "2019-09-30                                            96.9520                                                                                                                                                                  \n",
       "2019-09-27                                            97.1966                                                                                                                                                                  \n",
       "2019-09-26                                            97.1416                                                                                                                                                                  \n",
       "2019-09-25                                            97.3576                                                                                                                                                                  \n",
       "2019-09-24                                            97.3220                                                                                                                                                                  "
      ]
     },
     "execution_count": 6,
     "metadata": {},
     "output_type": "execute_result"
    }
   ],
   "source": [
    "df.head()"
   ]
  },
  {
   "cell_type": "markdown",
   "metadata": {},
   "source": [
    "# Process Data"
   ]
  },
  {
   "cell_type": "code",
   "execution_count": 6,
   "metadata": {},
   "outputs": [],
   "source": [
    "import numpy as np"
   ]
  },
  {
   "cell_type": "code",
   "execution_count": 7,
   "metadata": {},
   "outputs": [
    {
     "name": "stdout",
     "output_type": "stream",
     "text": [
      "<class 'pandas.core.frame.DataFrame'>\n",
      "<class 'pandas.core.frame.DataFrame'>\n",
      "<class 'numpy.ndarray'>\n"
     ]
    }
   ],
   "source": [
    "a=df.iloc[:,0:]\n",
    "b=df.iloc[:,0:].values\n",
    "\n",
    "print(type(df))\n",
    "print(type(a))\n",
    "print(type(b))"
   ]
  },
  {
   "cell_type": "code",
   "execution_count": 8,
   "metadata": {},
   "outputs": [],
   "source": [
    "for i in range(len(b)):\n",
    "    if (b[i] == \"-\"):\n",
    "        j = i\n",
    "        while b[j] == \"-\":\n",
    "            j = j - 1\n",
    "        b[i] = b[j]"
   ]
  },
  {
   "cell_type": "code",
   "execution_count": 9,
   "metadata": {},
   "outputs": [],
   "source": [
    "b_float = b.astype('float')"
   ]
  },
  {
   "cell_type": "code",
   "execution_count": 10,
   "metadata": {},
   "outputs": [
    {
     "data": {
      "text/plain": [
       "array([[98.3161],\n",
       "       [98.1501],\n",
       "       [98.2508],\n",
       "       ...,\n",
       "       [97.1416],\n",
       "       [97.1966],\n",
       "       [96.952 ]])"
      ]
     },
     "execution_count": 10,
     "metadata": {},
     "output_type": "execute_result"
    }
   ],
   "source": [
    "b_float = np.flip(b_float)\n",
    "b_float"
   ]
  },
  {
   "cell_type": "markdown",
   "metadata": {},
   "source": [
    "# Visualize"
   ]
  },
  {
   "cell_type": "code",
   "execution_count": 11,
   "metadata": {},
   "outputs": [],
   "source": [
    "from matplotlib import pyplot as plt\n",
    "plt.rcParams[\"figure.figsize\"] = (20,10)"
   ]
  },
  {
   "cell_type": "code",
   "execution_count": 12,
   "metadata": {
    "scrolled": true
   },
   "outputs": [
    {
     "data": {
      "text/plain": [
       "[<matplotlib.lines.Line2D at 0x7f367efbb8d0>]"
      ]
     },
     "execution_count": 12,
     "metadata": {},
     "output_type": "execute_result"
    },
    {
     "data": {
      "image/png": "[encoded data removed]",
      "text/plain": [
       "<Figure size 432x288 with 1 Axes>"
      ]
     },
     "metadata": {
      "needs_background": "light"
     },
     "output_type": "display_data"
    }
   ],
   "source": [
    "plt.plot(b_float)"
   ]
  },
  {
   "cell_type": "code",
   "execution_count": null,
   "metadata": {},
   "outputs": [],
   "source": []
  },
  {
   "cell_type": "markdown",
   "metadata": {},
   "source": [
    "# Load Feature 2 dj index from CSV"
   ]
  },
  {
   "cell_type": "code",
   "execution_count": 13,
   "metadata": {},
   "outputs": [],
   "source": [
    "df = pd.read_csv(\"./independendt projecct/Dow jones industrial average.csv\")"
   ]
  },
  {
   "cell_type": "code",
   "execution_count": 14,
   "metadata": {
    "scrolled": true
   },
   "outputs": [
    {
     "data": {
      "text/html": [
       "<div>\n",
       "<style scoped>\n",
       "    .dataframe tbody tr th:only-of-type {\n",
       "        vertical-align: middle;\n",
       "    }\n",
       "\n",
       "    .dataframe tbody tr th {\n",
       "        vertical-align: top;\n",
       "    }\n",
       "\n",
       "    .dataframe thead th {\n",
       "        text-align: right;\n",
       "    }\n",
       "</style>\n",
       "<table border=\"1\" class=\"dataframe\">\n",
       "  <thead>\n",
       "    <tr style=\"text-align: right;\">\n",
       "      <th></th>\n",
       "      <th>Date</th>\n",
       "      <th>Open</th>\n",
       "      <th>High</th>\n",
       "      <th>Low</th>\n",
       "      <th>Close</th>\n",
       "      <th>Adj Close</th>\n",
       "      <th>Volume</th>\n",
       "    </tr>\n",
       "  </thead>\n",
       "  <tbody>\n",
       "    <tr>\n",
       "      <th>0</th>\n",
       "      <td>2014-10-03</td>\n",
       "      <td>16802.199219</td>\n",
       "      <td>17027.839844</td>\n",
       "      <td>16802.199219</td>\n",
       "      <td>17009.689453</td>\n",
       "      <td>17009.689453</td>\n",
       "      <td>87940000</td>\n",
       "    </tr>\n",
       "    <tr>\n",
       "      <th>1</th>\n",
       "      <td>2014-10-06</td>\n",
       "      <td>17010.339844</td>\n",
       "      <td>17099.390625</td>\n",
       "      <td>16930.380859</td>\n",
       "      <td>16991.910156</td>\n",
       "      <td>16991.910156</td>\n",
       "      <td>655450000</td>\n",
       "    </tr>\n",
       "    <tr>\n",
       "      <th>2</th>\n",
       "      <td>2014-10-07</td>\n",
       "      <td>16988.250000</td>\n",
       "      <td>16988.250000</td>\n",
       "      <td>16715.789063</td>\n",
       "      <td>16719.390625</td>\n",
       "      <td>16719.390625</td>\n",
       "      <td>79420000</td>\n",
       "    </tr>\n",
       "    <tr>\n",
       "      <th>3</th>\n",
       "      <td>2014-10-08</td>\n",
       "      <td>16718.650391</td>\n",
       "      <td>17006.910156</td>\n",
       "      <td>16663.259766</td>\n",
       "      <td>16994.220703</td>\n",
       "      <td>16994.220703</td>\n",
       "      <td>106930000</td>\n",
       "    </tr>\n",
       "    <tr>\n",
       "      <th>4</th>\n",
       "      <td>2014-10-09</td>\n",
       "      <td>16989.369141</td>\n",
       "      <td>16989.369141</td>\n",
       "      <td>16649.039063</td>\n",
       "      <td>16659.250000</td>\n",
       "      <td>16659.250000</td>\n",
       "      <td>93210000</td>\n",
       "    </tr>\n",
       "    <tr>\n",
       "      <th>5</th>\n",
       "      <td>2014-10-10</td>\n",
       "      <td>16654.880859</td>\n",
       "      <td>16757.599609</td>\n",
       "      <td>16543.910156</td>\n",
       "      <td>16544.099609</td>\n",
       "      <td>16544.099609</td>\n",
       "      <td>136370000</td>\n",
       "    </tr>\n",
       "    <tr>\n",
       "      <th>6</th>\n",
       "      <td>2014-10-13</td>\n",
       "      <td>16535.429688</td>\n",
       "      <td>16602.410156</td>\n",
       "      <td>16310.469727</td>\n",
       "      <td>16321.070313</td>\n",
       "      <td>16321.070313</td>\n",
       "      <td>107830000</td>\n",
       "    </tr>\n",
       "    <tr>\n",
       "      <th>7</th>\n",
       "      <td>2014-10-14</td>\n",
       "      <td>16321.900391</td>\n",
       "      <td>16463.669922</td>\n",
       "      <td>16273.639648</td>\n",
       "      <td>16315.190430</td>\n",
       "      <td>16315.190430</td>\n",
       "      <td>110410000</td>\n",
       "    </tr>\n",
       "    <tr>\n",
       "      <th>8</th>\n",
       "      <td>2014-10-15</td>\n",
       "      <td>16313.299805</td>\n",
       "      <td>16313.299805</td>\n",
       "      <td>15855.120117</td>\n",
       "      <td>16141.740234</td>\n",
       "      <td>16141.740234</td>\n",
       "      <td>160380000</td>\n",
       "    </tr>\n",
       "    <tr>\n",
       "      <th>9</th>\n",
       "      <td>2014-10-16</td>\n",
       "      <td>16137.139648</td>\n",
       "      <td>16211.120117</td>\n",
       "      <td>15935.219727</td>\n",
       "      <td>16117.240234</td>\n",
       "      <td>16117.240234</td>\n",
       "      <td>131670000</td>\n",
       "    </tr>\n",
       "  </tbody>\n",
       "</table>\n",
       "</div>"
      ],
      "text/plain": [
       "         Date          Open          High           Low         Close  \\\n",
       "0  2014-10-03  16802.199219  17027.839844  16802.199219  17009.689453   \n",
       "1  2014-10-06  17010.339844  17099.390625  16930.380859  16991.910156   \n",
       "2  2014-10-07  16988.250000  16988.250000  16715.789063  16719.390625   \n",
       "3  2014-10-08  16718.650391  17006.910156  16663.259766  16994.220703   \n",
       "4  2014-10-09  16989.369141  16989.369141  16649.039063  16659.250000   \n",
       "5  2014-10-10  16654.880859  16757.599609  16543.910156  16544.099609   \n",
       "6  2014-10-13  16535.429688  16602.410156  16310.469727  16321.070313   \n",
       "7  2014-10-14  16321.900391  16463.669922  16273.639648  16315.190430   \n",
       "8  2014-10-15  16313.299805  16313.299805  15855.120117  16141.740234   \n",
       "9  2014-10-16  16137.139648  16211.120117  15935.219727  16117.240234   \n",
       "\n",
       "      Adj Close     Volume  \n",
       "0  17009.689453   87940000  \n",
       "1  16991.910156  655450000  \n",
       "2  16719.390625   79420000  \n",
       "3  16994.220703  106930000  \n",
       "4  16659.250000   93210000  \n",
       "5  16544.099609  136370000  \n",
       "6  16321.070313  107830000  \n",
       "7  16315.190430  110410000  \n",
       "8  16141.740234  160380000  \n",
       "9  16117.240234  131670000  "
      ]
     },
     "execution_count": 14,
     "metadata": {},
     "output_type": "execute_result"
    }
   ],
   "source": [
    "df.head(10)"
   ]
  },
  {
   "cell_type": "code",
   "execution_count": 15,
   "metadata": {},
   "outputs": [
    {
     "data": {
      "text/html": [
       "<div>\n",
       "<style scoped>\n",
       "    .dataframe tbody tr th:only-of-type {\n",
       "        vertical-align: middle;\n",
       "    }\n",
       "\n",
       "    .dataframe tbody tr th {\n",
       "        vertical-align: top;\n",
       "    }\n",
       "\n",
       "    .dataframe thead th {\n",
       "        text-align: right;\n",
       "    }\n",
       "</style>\n",
       "<table border=\"1\" class=\"dataframe\">\n",
       "  <thead>\n",
       "    <tr style=\"text-align: right;\">\n",
       "      <th></th>\n",
       "      <th>Date</th>\n",
       "      <th>Open</th>\n",
       "      <th>High</th>\n",
       "      <th>Low</th>\n",
       "      <th>Close</th>\n",
       "      <th>Adj Close</th>\n",
       "      <th>Volume</th>\n",
       "    </tr>\n",
       "  </thead>\n",
       "  <tbody>\n",
       "    <tr>\n",
       "      <th>1251</th>\n",
       "      <td>2019-09-24</td>\n",
       "      <td>27034.070313</td>\n",
       "      <td>27079.679688</td>\n",
       "      <td>26704.960938</td>\n",
       "      <td>26807.769531</td>\n",
       "      <td>26807.769531</td>\n",
       "      <td>301750000</td>\n",
       "    </tr>\n",
       "    <tr>\n",
       "      <th>1252</th>\n",
       "      <td>2019-09-25</td>\n",
       "      <td>26866.710938</td>\n",
       "      <td>27016.560547</td>\n",
       "      <td>26755.859375</td>\n",
       "      <td>26970.710938</td>\n",
       "      <td>26970.710938</td>\n",
       "      <td>237220000</td>\n",
       "    </tr>\n",
       "    <tr>\n",
       "      <th>1253</th>\n",
       "      <td>2019-09-26</td>\n",
       "      <td>27004.109375</td>\n",
       "      <td>27015.070313</td>\n",
       "      <td>26803.839844</td>\n",
       "      <td>26891.119141</td>\n",
       "      <td>26891.119141</td>\n",
       "      <td>229180000</td>\n",
       "    </tr>\n",
       "    <tr>\n",
       "      <th>1254</th>\n",
       "      <td>2019-09-27</td>\n",
       "      <td>26987.259766</td>\n",
       "      <td>27012.539063</td>\n",
       "      <td>26715.820313</td>\n",
       "      <td>26820.250000</td>\n",
       "      <td>26820.250000</td>\n",
       "      <td>217780000</td>\n",
       "    </tr>\n",
       "    <tr>\n",
       "      <th>1255</th>\n",
       "      <td>2019-09-30</td>\n",
       "      <td>26852.330078</td>\n",
       "      <td>26998.859375</td>\n",
       "      <td>26852.330078</td>\n",
       "      <td>26916.830078</td>\n",
       "      <td>26916.830078</td>\n",
       "      <td>222680000</td>\n",
       "    </tr>\n",
       "  </tbody>\n",
       "</table>\n",
       "</div>"
      ],
      "text/plain": [
       "            Date          Open          High           Low         Close  \\\n",
       "1251  2019-09-24  27034.070313  27079.679688  26704.960938  26807.769531   \n",
       "1252  2019-09-25  26866.710938  27016.560547  26755.859375  26970.710938   \n",
       "1253  2019-09-26  27004.109375  27015.070313  26803.839844  26891.119141   \n",
       "1254  2019-09-27  26987.259766  27012.539063  26715.820313  26820.250000   \n",
       "1255  2019-09-30  26852.330078  26998.859375  26852.330078  26916.830078   \n",
       "\n",
       "         Adj Close     Volume  \n",
       "1251  26807.769531  301750000  \n",
       "1252  26970.710938  237220000  \n",
       "1253  26891.119141  229180000  \n",
       "1254  26820.250000  217780000  \n",
       "1255  26916.830078  222680000  "
      ]
     },
     "execution_count": 15,
     "metadata": {},
     "output_type": "execute_result"
    }
   ],
   "source": [
    "df = df.iloc[:-2,]\n",
    "df.tail()"
   ]
  },
  {
   "cell_type": "markdown",
   "metadata": {},
   "source": [
    "# Process Data"
   ]
  },
  {
   "cell_type": "code",
   "execution_count": 16,
   "metadata": {},
   "outputs": [],
   "source": [
    "import numpy as np"
   ]
  },
  {
   "cell_type": "code",
   "execution_count": 17,
   "metadata": {},
   "outputs": [],
   "source": [
    "d = df.values[:,1:]"
   ]
  },
  {
   "cell_type": "code",
   "execution_count": 18,
   "metadata": {},
   "outputs": [],
   "source": [
    "d_float = d.astype('float')"
   ]
  },
  {
   "cell_type": "code",
   "execution_count": 19,
   "metadata": {},
   "outputs": [
    {
     "data": {
      "text/plain": [
       "array([[1.68021992e+04, 1.70278398e+04, 1.68021992e+04, 1.70096895e+04,\n",
       "        1.70096895e+04, 8.79400000e+07],\n",
       "       [1.70103398e+04, 1.70993906e+04, 1.69303809e+04, 1.69919102e+04,\n",
       "        1.69919102e+04, 6.55450000e+08],\n",
       "       [1.69882500e+04, 1.69882500e+04, 1.67157891e+04, 1.67193906e+04,\n",
       "        1.67193906e+04, 7.94200000e+07],\n",
       "       ...,\n",
       "       [2.70041094e+04, 2.70150703e+04, 2.68038398e+04, 2.68911191e+04,\n",
       "        2.68911191e+04, 2.29180000e+08],\n",
       "       [2.69872598e+04, 2.70125391e+04, 2.67158203e+04, 2.68202500e+04,\n",
       "        2.68202500e+04, 2.17780000e+08],\n",
       "       [2.68523301e+04, 2.69988594e+04, 2.68523301e+04, 2.69168301e+04,\n",
       "        2.69168301e+04, 2.22680000e+08]])"
      ]
     },
     "execution_count": 19,
     "metadata": {},
     "output_type": "execute_result"
    }
   ],
   "source": [
    "d_float"
   ]
  },
  {
   "cell_type": "markdown",
   "metadata": {},
   "source": [
    "# Visualize"
   ]
  },
  {
   "cell_type": "code",
   "execution_count": 20,
   "metadata": {},
   "outputs": [],
   "source": [
    "from matplotlib import pyplot as plt\n",
    "plt.rcParams[\"figure.figsize\"] = (20,10)"
   ]
  },
  {
   "cell_type": "code",
   "execution_count": 21,
   "metadata": {
    "scrolled": false
   },
   "outputs": [
    {
     "data": {
      "text/plain": [
       "[<matplotlib.lines.Line2D at 0x7f367eeb2780>,\n",
       " <matplotlib.lines.Line2D at 0x7f367eeb28d0>,\n",
       " <matplotlib.lines.Line2D at 0x7f367eeb2a20>,\n",
       " <matplotlib.lines.Line2D at 0x7f367eeb2b70>,\n",
       " <matplotlib.lines.Line2D at 0x7f367eeb2cc0>,\n",
       " <matplotlib.lines.Line2D at 0x7f367eeb2e10>]"
      ]
     },
     "execution_count": 21,
     "metadata": {},
     "output_type": "execute_result"
    },
    {
     "data": {
      "image/png": "[encoded data removed]",
      "text/plain": [
       "<Figure size 1440x720 with 1 Axes>"
      ]
     },
     "metadata": {
      "needs_background": "light"
     },
     "output_type": "display_data"
    }
   ],
   "source": [
    "plt.plot(d_float)"
   ]
  },
  {
   "cell_type": "markdown",
   "metadata": {},
   "source": [
    "# Load Feature 3 CPI from CSV"
   ]
  },
  {
   "cell_type": "code",
   "execution_count": 22,
   "metadata": {},
   "outputs": [],
   "source": [
    "df = pd.read_csv(\"./independendt projecct/CPI.csv\")"
   ]
  },
  {
   "cell_type": "code",
   "execution_count": 23,
   "metadata": {
    "scrolled": true
   },
   "outputs": [
    {
     "data": {
      "text/html": [
       "<div>\n",
       "<style scoped>\n",
       "    .dataframe tbody tr th:only-of-type {\n",
       "        vertical-align: middle;\n",
       "    }\n",
       "\n",
       "    .dataframe tbody tr th {\n",
       "        vertical-align: top;\n",
       "    }\n",
       "\n",
       "    .dataframe thead th {\n",
       "        text-align: right;\n",
       "    }\n",
       "</style>\n",
       "<table border=\"1\" class=\"dataframe\">\n",
       "  <thead>\n",
       "    <tr style=\"text-align: right;\">\n",
       "      <th></th>\n",
       "      <th>Date</th>\n",
       "      <th>Open</th>\n",
       "      <th>High</th>\n",
       "      <th>Low</th>\n",
       "      <th>Close</th>\n",
       "      <th>Adj Close</th>\n",
       "      <th>Volume</th>\n",
       "    </tr>\n",
       "  </thead>\n",
       "  <tbody>\n",
       "    <tr>\n",
       "      <th>0</th>\n",
       "      <td>2014-10-03</td>\n",
       "      <td>26.420000</td>\n",
       "      <td>26.420000</td>\n",
       "      <td>26.420000</td>\n",
       "      <td>26.420000</td>\n",
       "      <td>25.775066</td>\n",
       "      <td>0</td>\n",
       "    </tr>\n",
       "    <tr>\n",
       "      <th>1</th>\n",
       "      <td>2014-10-06</td>\n",
       "      <td>26.490000</td>\n",
       "      <td>26.490000</td>\n",
       "      <td>26.469999</td>\n",
       "      <td>26.490000</td>\n",
       "      <td>25.843353</td>\n",
       "      <td>3300</td>\n",
       "    </tr>\n",
       "    <tr>\n",
       "      <th>2</th>\n",
       "      <td>2014-10-07</td>\n",
       "      <td>26.469999</td>\n",
       "      <td>26.500000</td>\n",
       "      <td>26.450001</td>\n",
       "      <td>26.450001</td>\n",
       "      <td>25.804331</td>\n",
       "      <td>3600</td>\n",
       "    </tr>\n",
       "    <tr>\n",
       "      <th>3</th>\n",
       "      <td>2014-10-08</td>\n",
       "      <td>26.450001</td>\n",
       "      <td>26.450001</td>\n",
       "      <td>26.450001</td>\n",
       "      <td>26.450001</td>\n",
       "      <td>25.804331</td>\n",
       "      <td>0</td>\n",
       "    </tr>\n",
       "    <tr>\n",
       "      <th>4</th>\n",
       "      <td>2014-10-09</td>\n",
       "      <td>26.440001</td>\n",
       "      <td>26.450001</td>\n",
       "      <td>26.420000</td>\n",
       "      <td>26.430000</td>\n",
       "      <td>25.784821</td>\n",
       "      <td>4100</td>\n",
       "    </tr>\n",
       "    <tr>\n",
       "      <th>5</th>\n",
       "      <td>2014-10-10</td>\n",
       "      <td>26.430000</td>\n",
       "      <td>26.430000</td>\n",
       "      <td>26.430000</td>\n",
       "      <td>26.430000</td>\n",
       "      <td>25.784821</td>\n",
       "      <td>2200</td>\n",
       "    </tr>\n",
       "    <tr>\n",
       "      <th>6</th>\n",
       "      <td>2014-10-13</td>\n",
       "      <td>26.410000</td>\n",
       "      <td>26.410000</td>\n",
       "      <td>26.410000</td>\n",
       "      <td>26.410000</td>\n",
       "      <td>25.765308</td>\n",
       "      <td>300</td>\n",
       "    </tr>\n",
       "    <tr>\n",
       "      <th>7</th>\n",
       "      <td>2014-10-14</td>\n",
       "      <td>26.420000</td>\n",
       "      <td>26.420000</td>\n",
       "      <td>26.410000</td>\n",
       "      <td>26.420000</td>\n",
       "      <td>25.775066</td>\n",
       "      <td>3800</td>\n",
       "    </tr>\n",
       "    <tr>\n",
       "      <th>8</th>\n",
       "      <td>2014-10-15</td>\n",
       "      <td>26.400000</td>\n",
       "      <td>26.410000</td>\n",
       "      <td>26.340000</td>\n",
       "      <td>26.370001</td>\n",
       "      <td>25.726288</td>\n",
       "      <td>4900</td>\n",
       "    </tr>\n",
       "    <tr>\n",
       "      <th>9</th>\n",
       "      <td>2014-10-16</td>\n",
       "      <td>26.440001</td>\n",
       "      <td>26.440001</td>\n",
       "      <td>26.420000</td>\n",
       "      <td>26.420000</td>\n",
       "      <td>25.775066</td>\n",
       "      <td>1100</td>\n",
       "    </tr>\n",
       "  </tbody>\n",
       "</table>\n",
       "</div>"
      ],
      "text/plain": [
       "         Date       Open       High        Low      Close  Adj Close  Volume\n",
       "0  2014-10-03  26.420000  26.420000  26.420000  26.420000  25.775066       0\n",
       "1  2014-10-06  26.490000  26.490000  26.469999  26.490000  25.843353    3300\n",
       "2  2014-10-07  26.469999  26.500000  26.450001  26.450001  25.804331    3600\n",
       "3  2014-10-08  26.450001  26.450001  26.450001  26.450001  25.804331       0\n",
       "4  2014-10-09  26.440001  26.450001  26.420000  26.430000  25.784821    4100\n",
       "5  2014-10-10  26.430000  26.430000  26.430000  26.430000  25.784821    2200\n",
       "6  2014-10-13  26.410000  26.410000  26.410000  26.410000  25.765308     300\n",
       "7  2014-10-14  26.420000  26.420000  26.410000  26.420000  25.775066    3800\n",
       "8  2014-10-15  26.400000  26.410000  26.340000  26.370001  25.726288    4900\n",
       "9  2014-10-16  26.440001  26.440001  26.420000  26.420000  25.775066    1100"
      ]
     },
     "execution_count": 23,
     "metadata": {},
     "output_type": "execute_result"
    }
   ],
   "source": [
    "df.head(10)"
   ]
  },
  {
   "cell_type": "code",
   "execution_count": 24,
   "metadata": {},
   "outputs": [
    {
     "data": {
      "text/html": [
       "<div>\n",
       "<style scoped>\n",
       "    .dataframe tbody tr th:only-of-type {\n",
       "        vertical-align: middle;\n",
       "    }\n",
       "\n",
       "    .dataframe tbody tr th {\n",
       "        vertical-align: top;\n",
       "    }\n",
       "\n",
       "    .dataframe thead th {\n",
       "        text-align: right;\n",
       "    }\n",
       "</style>\n",
       "<table border=\"1\" class=\"dataframe\">\n",
       "  <thead>\n",
       "    <tr style=\"text-align: right;\">\n",
       "      <th></th>\n",
       "      <th>Date</th>\n",
       "      <th>Open</th>\n",
       "      <th>High</th>\n",
       "      <th>Low</th>\n",
       "      <th>Close</th>\n",
       "      <th>Adj Close</th>\n",
       "      <th>Volume</th>\n",
       "    </tr>\n",
       "  </thead>\n",
       "  <tbody>\n",
       "    <tr>\n",
       "      <th>1251</th>\n",
       "      <td>2019-09-24</td>\n",
       "      <td>28.059999</td>\n",
       "      <td>28.059999</td>\n",
       "      <td>28.040001</td>\n",
       "      <td>28.040001</td>\n",
       "      <td>28.040001</td>\n",
       "      <td>300</td>\n",
       "    </tr>\n",
       "    <tr>\n",
       "      <th>1252</th>\n",
       "      <td>2019-09-25</td>\n",
       "      <td>28.030001</td>\n",
       "      <td>28.030001</td>\n",
       "      <td>28.000000</td>\n",
       "      <td>28.010000</td>\n",
       "      <td>28.010000</td>\n",
       "      <td>800</td>\n",
       "    </tr>\n",
       "    <tr>\n",
       "      <th>1253</th>\n",
       "      <td>2019-09-26</td>\n",
       "      <td>28.030001</td>\n",
       "      <td>28.030001</td>\n",
       "      <td>28.030001</td>\n",
       "      <td>28.030001</td>\n",
       "      <td>28.030001</td>\n",
       "      <td>0</td>\n",
       "    </tr>\n",
       "    <tr>\n",
       "      <th>1254</th>\n",
       "      <td>2019-09-27</td>\n",
       "      <td>27.990000</td>\n",
       "      <td>27.990000</td>\n",
       "      <td>27.990000</td>\n",
       "      <td>27.990000</td>\n",
       "      <td>27.990000</td>\n",
       "      <td>0</td>\n",
       "    </tr>\n",
       "    <tr>\n",
       "      <th>1255</th>\n",
       "      <td>2019-09-30</td>\n",
       "      <td>27.950001</td>\n",
       "      <td>27.950001</td>\n",
       "      <td>27.950001</td>\n",
       "      <td>27.950001</td>\n",
       "      <td>27.950001</td>\n",
       "      <td>0</td>\n",
       "    </tr>\n",
       "  </tbody>\n",
       "</table>\n",
       "</div>"
      ],
      "text/plain": [
       "            Date       Open       High        Low      Close  Adj Close  \\\n",
       "1251  2019-09-24  28.059999  28.059999  28.040001  28.040001  28.040001   \n",
       "1252  2019-09-25  28.030001  28.030001  28.000000  28.010000  28.010000   \n",
       "1253  2019-09-26  28.030001  28.030001  28.030001  28.030001  28.030001   \n",
       "1254  2019-09-27  27.990000  27.990000  27.990000  27.990000  27.990000   \n",
       "1255  2019-09-30  27.950001  27.950001  27.950001  27.950001  27.950001   \n",
       "\n",
       "      Volume  \n",
       "1251     300  \n",
       "1252     800  \n",
       "1253       0  \n",
       "1254       0  \n",
       "1255       0  "
      ]
     },
     "execution_count": 24,
     "metadata": {},
     "output_type": "execute_result"
    }
   ],
   "source": [
    "df = df.iloc[:-2,]\n",
    "df.tail()"
   ]
  },
  {
   "cell_type": "markdown",
   "metadata": {},
   "source": [
    "# Process Data"
   ]
  },
  {
   "cell_type": "code",
   "execution_count": 25,
   "metadata": {},
   "outputs": [],
   "source": [
    "import numpy as np"
   ]
  },
  {
   "cell_type": "code",
   "execution_count": 26,
   "metadata": {},
   "outputs": [],
   "source": [
    "e = df.values[:,1:-1]"
   ]
  },
  {
   "cell_type": "code",
   "execution_count": 27,
   "metadata": {},
   "outputs": [],
   "source": [
    "e_float = e.astype('float')"
   ]
  },
  {
   "cell_type": "code",
   "execution_count": 28,
   "metadata": {},
   "outputs": [
    {
     "data": {
      "text/plain": [
       "array([[26.42    , 26.42    , 26.42    , 26.42    , 25.775066],\n",
       "       [26.49    , 26.49    , 26.469999, 26.49    , 25.843353],\n",
       "       [26.469999, 26.5     , 26.450001, 26.450001, 25.804331],\n",
       "       ...,\n",
       "       [28.030001, 28.030001, 28.030001, 28.030001, 28.030001],\n",
       "       [27.99    , 27.99    , 27.99    , 27.99    , 27.99    ],\n",
       "       [27.950001, 27.950001, 27.950001, 27.950001, 27.950001]])"
      ]
     },
     "execution_count": 28,
     "metadata": {},
     "output_type": "execute_result"
    }
   ],
   "source": [
    "e_float"
   ]
  },
  {
   "cell_type": "markdown",
   "metadata": {},
   "source": [
    "# Visualize"
   ]
  },
  {
   "cell_type": "code",
   "execution_count": 29,
   "metadata": {},
   "outputs": [],
   "source": [
    "from matplotlib import pyplot as plt\n",
    "plt.rcParams[\"figure.figsize\"] = (20,10)"
   ]
  },
  {
   "cell_type": "code",
   "execution_count": 30,
   "metadata": {
    "scrolled": false
   },
   "outputs": [
    {
     "data": {
      "text/plain": [
       "[<matplotlib.lines.Line2D at 0x7f367ee37278>,\n",
       " <matplotlib.lines.Line2D at 0x7f367ee373c8>,\n",
       " <matplotlib.lines.Line2D at 0x7f367ee37518>,\n",
       " <matplotlib.lines.Line2D at 0x7f367ee37668>,\n",
       " <matplotlib.lines.Line2D at 0x7f367ee377b8>,\n",
       " <matplotlib.lines.Line2D at 0x7f367ee37908>]"
      ]
     },
     "execution_count": 30,
     "metadata": {},
     "output_type": "execute_result"
    },
    {
     "data": {
      "image/png": "[encoded data removed]",
      "text/plain": [
       "<Figure size 1440x720 with 1 Axes>"
      ]
     },
     "metadata": {
      "needs_background": "light"
     },
     "output_type": "display_data"
    }
   ],
   "source": [
    "plt.plot(d_float)"
   ]
  },
  {
   "cell_type": "markdown",
   "metadata": {},
   "source": [
    "# Load Label from Sony another CSV (close Price)"
   ]
  },
  {
   "cell_type": "code",
   "execution_count": 31,
   "metadata": {},
   "outputs": [],
   "source": [
    "df = pd.read_csv(\"./independendt projecct/SNE.csv\")"
   ]
  },
  {
   "cell_type": "code",
   "execution_count": 32,
   "metadata": {},
   "outputs": [
    {
     "data": {
      "text/plain": [
       "pandas.core.frame.DataFrame"
      ]
     },
     "execution_count": 32,
     "metadata": {},
     "output_type": "execute_result"
    }
   ],
   "source": [
    "type(df)"
   ]
  },
  {
   "cell_type": "code",
   "execution_count": 33,
   "metadata": {},
   "outputs": [
    {
     "data": {
      "text/html": [
       "<div>\n",
       "<style scoped>\n",
       "    .dataframe tbody tr th:only-of-type {\n",
       "        vertical-align: middle;\n",
       "    }\n",
       "\n",
       "    .dataframe tbody tr th {\n",
       "        vertical-align: top;\n",
       "    }\n",
       "\n",
       "    .dataframe thead th {\n",
       "        text-align: right;\n",
       "    }\n",
       "</style>\n",
       "<table border=\"1\" class=\"dataframe\">\n",
       "  <thead>\n",
       "    <tr style=\"text-align: right;\">\n",
       "      <th></th>\n",
       "      <th>Date</th>\n",
       "      <th>Open</th>\n",
       "      <th>High</th>\n",
       "      <th>Low</th>\n",
       "      <th>Close</th>\n",
       "      <th>Adj Close</th>\n",
       "      <th>Volume</th>\n",
       "    </tr>\n",
       "  </thead>\n",
       "  <tbody>\n",
       "    <tr>\n",
       "      <th>1251</th>\n",
       "      <td>2019-09-24</td>\n",
       "      <td>59.669998</td>\n",
       "      <td>59.770000</td>\n",
       "      <td>58.720001</td>\n",
       "      <td>58.910000</td>\n",
       "      <td>58.910000</td>\n",
       "      <td>987800</td>\n",
       "    </tr>\n",
       "    <tr>\n",
       "      <th>1252</th>\n",
       "      <td>2019-09-25</td>\n",
       "      <td>60.400002</td>\n",
       "      <td>60.740002</td>\n",
       "      <td>59.869999</td>\n",
       "      <td>60.580002</td>\n",
       "      <td>60.580002</td>\n",
       "      <td>1522500</td>\n",
       "    </tr>\n",
       "    <tr>\n",
       "      <th>1253</th>\n",
       "      <td>2019-09-26</td>\n",
       "      <td>59.910000</td>\n",
       "      <td>60.080002</td>\n",
       "      <td>59.230000</td>\n",
       "      <td>59.410000</td>\n",
       "      <td>59.410000</td>\n",
       "      <td>825500</td>\n",
       "    </tr>\n",
       "    <tr>\n",
       "      <th>1254</th>\n",
       "      <td>2019-09-27</td>\n",
       "      <td>58.830002</td>\n",
       "      <td>59.389999</td>\n",
       "      <td>58.650002</td>\n",
       "      <td>58.770000</td>\n",
       "      <td>58.770000</td>\n",
       "      <td>1501700</td>\n",
       "    </tr>\n",
       "    <tr>\n",
       "      <th>1255</th>\n",
       "      <td>2019-09-30</td>\n",
       "      <td>58.490002</td>\n",
       "      <td>59.180000</td>\n",
       "      <td>58.099998</td>\n",
       "      <td>59.130001</td>\n",
       "      <td>59.130001</td>\n",
       "      <td>666700</td>\n",
       "    </tr>\n",
       "  </tbody>\n",
       "</table>\n",
       "</div>"
      ],
      "text/plain": [
       "            Date       Open       High        Low      Close  Adj Close  \\\n",
       "1251  2019-09-24  59.669998  59.770000  58.720001  58.910000  58.910000   \n",
       "1252  2019-09-25  60.400002  60.740002  59.869999  60.580002  60.580002   \n",
       "1253  2019-09-26  59.910000  60.080002  59.230000  59.410000  59.410000   \n",
       "1254  2019-09-27  58.830002  59.389999  58.650002  58.770000  58.770000   \n",
       "1255  2019-09-30  58.490002  59.180000  58.099998  59.130001  59.130001   \n",
       "\n",
       "       Volume  \n",
       "1251   987800  \n",
       "1252  1522500  \n",
       "1253   825500  \n",
       "1254  1501700  \n",
       "1255   666700  "
      ]
     },
     "execution_count": 33,
     "metadata": {},
     "output_type": "execute_result"
    }
   ],
   "source": [
    "df = df.iloc[:-2,]\n",
    "df.tail()"
   ]
  },
  {
   "cell_type": "code",
   "execution_count": 34,
   "metadata": {},
   "outputs": [
    {
     "data": {
      "text/html": [
       "<div>\n",
       "<style scoped>\n",
       "    .dataframe tbody tr th:only-of-type {\n",
       "        vertical-align: middle;\n",
       "    }\n",
       "\n",
       "    .dataframe tbody tr th {\n",
       "        vertical-align: top;\n",
       "    }\n",
       "\n",
       "    .dataframe thead th {\n",
       "        text-align: right;\n",
       "    }\n",
       "</style>\n",
       "<table border=\"1\" class=\"dataframe\">\n",
       "  <thead>\n",
       "    <tr style=\"text-align: right;\">\n",
       "      <th></th>\n",
       "      <th>Date</th>\n",
       "      <th>Open</th>\n",
       "      <th>High</th>\n",
       "      <th>Low</th>\n",
       "      <th>Close</th>\n",
       "      <th>Adj Close</th>\n",
       "      <th>Volume</th>\n",
       "    </tr>\n",
       "  </thead>\n",
       "  <tbody>\n",
       "    <tr>\n",
       "      <th>1246</th>\n",
       "      <td>2019-09-17</td>\n",
       "      <td>60.150002</td>\n",
       "      <td>60.150002</td>\n",
       "      <td>59.259998</td>\n",
       "      <td>59.939999</td>\n",
       "      <td>59.939999</td>\n",
       "      <td>1854700</td>\n",
       "    </tr>\n",
       "    <tr>\n",
       "      <th>1247</th>\n",
       "      <td>2019-09-18</td>\n",
       "      <td>59.119999</td>\n",
       "      <td>59.360001</td>\n",
       "      <td>58.580002</td>\n",
       "      <td>59.110001</td>\n",
       "      <td>59.110001</td>\n",
       "      <td>816600</td>\n",
       "    </tr>\n",
       "    <tr>\n",
       "      <th>1248</th>\n",
       "      <td>2019-09-19</td>\n",
       "      <td>59.389999</td>\n",
       "      <td>59.779999</td>\n",
       "      <td>59.240002</td>\n",
       "      <td>59.349998</td>\n",
       "      <td>59.349998</td>\n",
       "      <td>619500</td>\n",
       "    </tr>\n",
       "    <tr>\n",
       "      <th>1249</th>\n",
       "      <td>2019-09-20</td>\n",
       "      <td>59.310001</td>\n",
       "      <td>59.580002</td>\n",
       "      <td>58.759998</td>\n",
       "      <td>59.119999</td>\n",
       "      <td>59.119999</td>\n",
       "      <td>627200</td>\n",
       "    </tr>\n",
       "    <tr>\n",
       "      <th>1250</th>\n",
       "      <td>2019-09-23</td>\n",
       "      <td>58.980000</td>\n",
       "      <td>59.270000</td>\n",
       "      <td>58.869999</td>\n",
       "      <td>59.119999</td>\n",
       "      <td>59.119999</td>\n",
       "      <td>426300</td>\n",
       "    </tr>\n",
       "    <tr>\n",
       "      <th>1251</th>\n",
       "      <td>2019-09-24</td>\n",
       "      <td>59.669998</td>\n",
       "      <td>59.770000</td>\n",
       "      <td>58.720001</td>\n",
       "      <td>58.910000</td>\n",
       "      <td>58.910000</td>\n",
       "      <td>987800</td>\n",
       "    </tr>\n",
       "    <tr>\n",
       "      <th>1252</th>\n",
       "      <td>2019-09-25</td>\n",
       "      <td>60.400002</td>\n",
       "      <td>60.740002</td>\n",
       "      <td>59.869999</td>\n",
       "      <td>60.580002</td>\n",
       "      <td>60.580002</td>\n",
       "      <td>1522500</td>\n",
       "    </tr>\n",
       "    <tr>\n",
       "      <th>1253</th>\n",
       "      <td>2019-09-26</td>\n",
       "      <td>59.910000</td>\n",
       "      <td>60.080002</td>\n",
       "      <td>59.230000</td>\n",
       "      <td>59.410000</td>\n",
       "      <td>59.410000</td>\n",
       "      <td>825500</td>\n",
       "    </tr>\n",
       "    <tr>\n",
       "      <th>1254</th>\n",
       "      <td>2019-09-27</td>\n",
       "      <td>58.830002</td>\n",
       "      <td>59.389999</td>\n",
       "      <td>58.650002</td>\n",
       "      <td>58.770000</td>\n",
       "      <td>58.770000</td>\n",
       "      <td>1501700</td>\n",
       "    </tr>\n",
       "    <tr>\n",
       "      <th>1255</th>\n",
       "      <td>2019-09-30</td>\n",
       "      <td>58.490002</td>\n",
       "      <td>59.180000</td>\n",
       "      <td>58.099998</td>\n",
       "      <td>59.130001</td>\n",
       "      <td>59.130001</td>\n",
       "      <td>666700</td>\n",
       "    </tr>\n",
       "  </tbody>\n",
       "</table>\n",
       "</div>"
      ],
      "text/plain": [
       "            Date       Open       High        Low      Close  Adj Close  \\\n",
       "1246  2019-09-17  60.150002  60.150002  59.259998  59.939999  59.939999   \n",
       "1247  2019-09-18  59.119999  59.360001  58.580002  59.110001  59.110001   \n",
       "1248  2019-09-19  59.389999  59.779999  59.240002  59.349998  59.349998   \n",
       "1249  2019-09-20  59.310001  59.580002  58.759998  59.119999  59.119999   \n",
       "1250  2019-09-23  58.980000  59.270000  58.869999  59.119999  59.119999   \n",
       "1251  2019-09-24  59.669998  59.770000  58.720001  58.910000  58.910000   \n",
       "1252  2019-09-25  60.400002  60.740002  59.869999  60.580002  60.580002   \n",
       "1253  2019-09-26  59.910000  60.080002  59.230000  59.410000  59.410000   \n",
       "1254  2019-09-27  58.830002  59.389999  58.650002  58.770000  58.770000   \n",
       "1255  2019-09-30  58.490002  59.180000  58.099998  59.130001  59.130001   \n",
       "\n",
       "       Volume  \n",
       "1246  1854700  \n",
       "1247   816600  \n",
       "1248   619500  \n",
       "1249   627200  \n",
       "1250   426300  \n",
       "1251   987800  \n",
       "1252  1522500  \n",
       "1253   825500  \n",
       "1254  1501700  \n",
       "1255   666700  "
      ]
     },
     "execution_count": 34,
     "metadata": {},
     "output_type": "execute_result"
    }
   ],
   "source": [
    "df.tail(10)"
   ]
  },
  {
   "cell_type": "code",
   "execution_count": 35,
   "metadata": {
    "scrolled": true
   },
   "outputs": [
    {
     "data": {
      "text/plain": [
       "Index(['Date', 'Open', 'High', 'Low', 'Close', 'Adj Close', 'Volume'], dtype='object')"
      ]
     },
     "execution_count": 35,
     "metadata": {},
     "output_type": "execute_result"
    }
   ],
   "source": [
    "df.columns\n"
   ]
  },
  {
   "cell_type": "code",
   "execution_count": 36,
   "metadata": {},
   "outputs": [],
   "source": [
    "c = df.values[:,4]\n",
    "length = c.shape[0]"
   ]
  },
  {
   "cell_type": "markdown",
   "metadata": {},
   "source": [
    "# Process Data"
   ]
  },
  {
   "cell_type": "code",
   "execution_count": 37,
   "metadata": {},
   "outputs": [],
   "source": [
    "import numpy as np"
   ]
  },
  {
   "cell_type": "code",
   "execution_count": 38,
   "metadata": {},
   "outputs": [],
   "source": [
    "# for i in range(len(b)):\n",
    "#     if (b[i] == \"-\"):\n",
    "#         j = i\n",
    "#         while b[j] == \"-\":\n",
    "#             j = j - 1\n",
    "#         b[i] = b[j]"
   ]
  },
  {
   "cell_type": "code",
   "execution_count": 39,
   "metadata": {},
   "outputs": [],
   "source": [
    "c_float = c.astype('float')"
   ]
  },
  {
   "cell_type": "code",
   "execution_count": 40,
   "metadata": {},
   "outputs": [
    {
     "data": {
      "text/plain": [
       "(1256,)"
      ]
     },
     "execution_count": 40,
     "metadata": {},
     "output_type": "execute_result"
    }
   ],
   "source": [
    "c_float = c_float.T\n",
    "c_float.shape"
   ]
  },
  {
   "cell_type": "markdown",
   "metadata": {},
   "source": [
    "# Visualize"
   ]
  },
  {
   "cell_type": "code",
   "execution_count": 41,
   "metadata": {},
   "outputs": [],
   "source": [
    "from matplotlib import pyplot as plt\n",
    "plt.rcParams[\"figure.figsize\"] = (20,10)"
   ]
  },
  {
   "cell_type": "code",
   "execution_count": 42,
   "metadata": {},
   "outputs": [
    {
     "data": {
      "image/png": "[encoded data removed]",
      "text/plain": [
       "<Figure size 1440x720 with 1 Axes>"
      ]
     },
     "metadata": {
      "needs_background": "light"
     },
     "output_type": "display_data"
    }
   ],
   "source": [
    "plt.plot(c_float)\n",
    "plt.plot(b_float)\n",
    "plt.show()"
   ]
  },
  {
   "cell_type": "markdown",
   "metadata": {},
   "source": [
    "# Fit model"
   ]
  },
  {
   "cell_type": "code",
   "execution_count": 43,
   "metadata": {},
   "outputs": [],
   "source": [
    "from sklearn import linear_model"
   ]
  },
  {
   "cell_type": "code",
   "execution_count": 44,
   "metadata": {},
   "outputs": [
    {
     "data": {
      "text/plain": [
       "(1302, 1)"
      ]
     },
     "execution_count": 44,
     "metadata": {},
     "output_type": "execute_result"
    }
   ],
   "source": [
    "feat1 = np.array(b_float)\n",
    "feat1.shape"
   ]
  },
  {
   "cell_type": "code",
   "execution_count": 45,
   "metadata": {},
   "outputs": [
    {
     "data": {
      "text/plain": [
       "(1256, 6)"
      ]
     },
     "execution_count": 45,
     "metadata": {},
     "output_type": "execute_result"
    }
   ],
   "source": [
    "feat2 = np.array(d_float)\n",
    "feat2.shape"
   ]
  },
  {
   "cell_type": "code",
   "execution_count": 46,
   "metadata": {},
   "outputs": [
    {
     "data": {
      "text/plain": [
       "(1256, 5)"
      ]
     },
     "execution_count": 46,
     "metadata": {},
     "output_type": "execute_result"
    }
   ],
   "source": [
    "feat3 = np.array(e_float)\n",
    "feat3.shape"
   ]
  },
  {
   "cell_type": "code",
   "execution_count": 47,
   "metadata": {},
   "outputs": [],
   "source": [
    "# Reduce Volume by million\n",
    "feat1[:,-1] /= 1000000\n",
    "feat2[:,-1] /= 1000000\n",
    "feat3[:,-1] /= 1000000"
   ]
  },
  {
   "cell_type": "code",
   "execution_count": 48,
   "metadata": {},
   "outputs": [
    {
     "data": {
      "text/plain": [
       "(1256, 1)"
      ]
     },
     "execution_count": 48,
     "metadata": {},
     "output_type": "execute_result"
    }
   ],
   "source": [
    "val = np.matrix(c_float).T\n",
    "val.shape"
   ]
  },
  {
   "cell_type": "code",
   "execution_count": 49,
   "metadata": {},
   "outputs": [],
   "source": [
    "# unify shape\n",
    "feat1 = feat1[-length:,:]\n",
    "feat2 = feat2[-length:,:]\n",
    "feat3 = feat3[-length:,:]"
   ]
  },
  {
   "cell_type": "code",
   "execution_count": 50,
   "metadata": {},
   "outputs": [
    {
     "data": {
      "text/plain": [
       "array([9.78376e-05])"
      ]
     },
     "execution_count": 50,
     "metadata": {},
     "output_type": "execute_result"
    }
   ],
   "source": [
    "feat1[0,:]"
   ]
  },
  {
   "cell_type": "markdown",
   "metadata": {},
   "source": [
    "## Build data set"
   ]
  },
  {
   "cell_type": "code",
   "execution_count": 51,
   "metadata": {},
   "outputs": [],
   "source": [
    "data = np.hstack((feat1,feat2, feat3,val))"
   ]
  },
  {
   "cell_type": "code",
   "execution_count": 52,
   "metadata": {},
   "outputs": [
    {
     "data": {
      "text/plain": [
       "(1256, 13)"
      ]
     },
     "execution_count": 52,
     "metadata": {},
     "output_type": "execute_result"
    }
   ],
   "source": [
    "data.shape"
   ]
  },
  {
   "cell_type": "code",
   "execution_count": 53,
   "metadata": {},
   "outputs": [],
   "source": [
    "data = data.T"
   ]
  },
  {
   "cell_type": "code",
   "execution_count": 54,
   "metadata": {},
   "outputs": [],
   "source": [
    "# Split train validation,and test\n",
    "train_data = data[:,:1000]\n",
    "test_data = data[:,1000:]"
   ]
  },
  {
   "cell_type": "code",
   "execution_count": 55,
   "metadata": {},
   "outputs": [],
   "source": [
    "train_x = train_data[:-1,:].T\n",
    "train_y = train_data[-1:,:].T\n",
    "\n",
    "test_x = test_data[:-1,:].T\n",
    "test_y = test_data[-1:,:].T"
   ]
  },
  {
   "cell_type": "markdown",
   "metadata": {},
   "source": [
    "## Linear Regression w/ Cross Validation"
   ]
  },
  {
   "cell_type": "code",
   "execution_count": 56,
   "metadata": {},
   "outputs": [],
   "source": [
    "from sklearn.model_selection import KFold"
   ]
  },
  {
   "cell_type": "code",
   "execution_count": 57,
   "metadata": {},
   "outputs": [],
   "source": [
    "# Compute MAE\n",
    "def compute_error(y_hat, y):\n",
    "    # mean absolute error\n",
    "    return np.abs(y_hat - y).mean()"
   ]
  },
  {
   "cell_type": "code",
   "execution_count": 58,
   "metadata": {},
   "outputs": [],
   "source": [
    "KS = [4,5,6,8,10]\n",
    "ALPHAS = [10**-6, 10**-4, 10**-2, 1, 10]"
   ]
  },
  {
   "cell_type": "code",
   "execution_count": 59,
   "metadata": {},
   "outputs": [
    {
     "name": "stderr",
     "output_type": "stream",
     "text": [
      "/home/will/anaconda3/lib/python3.7/site-packages/sklearn/linear_model/ridge.py:112: LinAlgWarning: Ill-conditioned matrix (rcond=2.7994e-17): result may not be accurate.\n",
      "  overwrite_a=True).T\n",
      "/home/will/anaconda3/lib/python3.7/site-packages/sklearn/linear_model/ridge.py:112: LinAlgWarning: Ill-conditioned matrix (rcond=2.81326e-17): result may not be accurate.\n",
      "  overwrite_a=True).T\n",
      "/home/will/anaconda3/lib/python3.7/site-packages/sklearn/linear_model/ridge.py:112: LinAlgWarning: Ill-conditioned matrix (rcond=2.24299e-17): result may not be accurate.\n",
      "  overwrite_a=True).T\n",
      "/home/will/anaconda3/lib/python3.7/site-packages/sklearn/linear_model/ridge.py:112: LinAlgWarning: Ill-conditioned matrix (rcond=9.79026e-17): result may not be accurate.\n",
      "  overwrite_a=True).T\n",
      "/home/will/anaconda3/lib/python3.7/site-packages/sklearn/linear_model/coordinate_descent.py:491: ConvergenceWarning: Objective did not converge. You might want to increase the number of iterations. Fitting data with very small alpha may cause precision problems.\n",
      "  ConvergenceWarning)\n",
      "/home/will/anaconda3/lib/python3.7/site-packages/sklearn/linear_model/ridge.py:112: LinAlgWarning: Ill-conditioned matrix (rcond=2.52484e-17): result may not be accurate.\n",
      "  overwrite_a=True).T\n",
      "/home/will/anaconda3/lib/python3.7/site-packages/sklearn/linear_model/ridge.py:112: LinAlgWarning: Ill-conditioned matrix (rcond=2.82715e-17): result may not be accurate.\n",
      "  overwrite_a=True).T\n",
      "/home/will/anaconda3/lib/python3.7/site-packages/sklearn/linear_model/ridge.py:112: LinAlgWarning: Ill-conditioned matrix (rcond=2.29981e-17): result may not be accurate.\n",
      "  overwrite_a=True).T\n",
      "/home/will/anaconda3/lib/python3.7/site-packages/sklearn/linear_model/ridge.py:112: LinAlgWarning: Ill-conditioned matrix (rcond=2.38135e-17): result may not be accurate.\n",
      "  overwrite_a=True).T\n",
      "/home/will/anaconda3/lib/python3.7/site-packages/sklearn/linear_model/ridge.py:112: LinAlgWarning: Ill-conditioned matrix (rcond=6.41992e-17): result may not be accurate.\n",
      "  overwrite_a=True).T\n",
      "/home/will/anaconda3/lib/python3.7/site-packages/sklearn/linear_model/ridge.py:112: LinAlgWarning: Ill-conditioned matrix (rcond=2.44936e-17): result may not be accurate.\n",
      "  overwrite_a=True).T\n",
      "/home/will/anaconda3/lib/python3.7/site-packages/sklearn/linear_model/ridge.py:112: LinAlgWarning: Ill-conditioned matrix (rcond=2.61111e-17): result may not be accurate.\n",
      "  overwrite_a=True).T\n",
      "/home/will/anaconda3/lib/python3.7/site-packages/sklearn/linear_model/ridge.py:112: LinAlgWarning: Ill-conditioned matrix (rcond=2.44744e-17): result may not be accurate.\n",
      "  overwrite_a=True).T\n",
      "/home/will/anaconda3/lib/python3.7/site-packages/sklearn/linear_model/ridge.py:112: LinAlgWarning: Ill-conditioned matrix (rcond=2.1839e-17): result may not be accurate.\n",
      "  overwrite_a=True).T\n",
      "/home/will/anaconda3/lib/python3.7/site-packages/sklearn/linear_model/ridge.py:112: LinAlgWarning: Ill-conditioned matrix (rcond=2.68947e-17): result may not be accurate.\n",
      "  overwrite_a=True).T\n",
      "/home/will/anaconda3/lib/python3.7/site-packages/sklearn/linear_model/ridge.py:112: LinAlgWarning: Ill-conditioned matrix (rcond=4.51094e-17): result may not be accurate.\n",
      "  overwrite_a=True).T\n"
     ]
    },
    {
     "name": "stdout",
     "output_type": "stream",
     "text": [
      "Ridge 1e-06 mean val MAE: 2.9425707500272167\n",
      "Lasso 1e-06 mean val MAE: 4.6704643202105744\n",
      "Ridge 0.0001 mean val MAE: 2.942086687518481\n",
      "Lasso 0.0001 mean val MAE: 4.672674539825644\n",
      "Ridge 0.01 mean val MAE: 2.9412278536620935\n",
      "Lasso 0.01 mean val MAE: 4.60622089492711\n",
      "Ridge 1 mean val MAE: 2.8944545515886966\n",
      "Lasso 1 mean val MAE: 4.237169171014986\n",
      "Ridge 10 mean val MAE: 2.7476745053248424\n",
      "Lasso 10 mean val MAE: 4.251679059922263\n",
      "Ridge 1e-06 mean val MAE: 2.986295837157118\n",
      "Lasso 1e-06 mean val MAE: 4.037434358746125\n",
      "Ridge 0.0001 mean val MAE: 2.986036184866554\n",
      "Lasso 0.0001 mean val MAE: 4.037015505318348\n",
      "Ridge 0.01 mean val MAE: 2.9852823883699813\n",
      "Lasso 0.01 mean val MAE: 3.987217773902016\n",
      "Ridge 1 mean val MAE: 2.9475955700493004\n",
      "Lasso 1 mean val MAE: 3.637278497940133\n",
      "Ridge 10 mean val MAE: 2.8349476905024575\n",
      "Lasso 10 mean val MAE: 3.662604634877345\n",
      "Ridge 1e-06 mean val MAE: 2.7528980360771698\n",
      "Lasso 1e-06 mean val MAE: 4.224077561551397\n",
      "Ridge 0.0001 mean val MAE: 2.752677286303845\n",
      "Lasso 0.0001 mean val MAE: 4.217914877573765\n",
      "Ridge 0.01 mean val MAE: 2.7522752675642903\n",
      "Lasso 0.01 mean val MAE: 4.1997038678779495\n",
      "Ridge 1 mean val MAE: 2.7450293204653864\n",
      "Lasso 1 mean val MAE: 4.073094387081134\n",
      "Ridge 10 mean val MAE: 2.7365718594445756\n",
      "Lasso 10 mean val MAE: 4.098635421102629\n",
      "Ridge 1e-06 mean val MAE: 2.560229334897776\n",
      "Lasso 1e-06 mean val MAE: 3.6098070392527912\n",
      "Ridge 0.0001 mean val MAE: 2.5600204079851117\n",
      "Lasso 0.0001 mean val MAE: 3.6097055797133613\n",
      "Ridge 0.01 mean val MAE: 2.5599324076834646\n",
      "Lasso 0.01 mean val MAE: 3.610043295448398\n",
      "Ridge 1 mean val MAE: 2.556250752817257\n",
      "Lasso 1 mean val MAE: 3.6387202680349198\n",
      "Ridge 10 mean val MAE: 2.5631126525622694\n"
     ]
    },
    {
     "name": "stderr",
     "output_type": "stream",
     "text": [
      "/home/will/anaconda3/lib/python3.7/site-packages/sklearn/linear_model/ridge.py:112: LinAlgWarning: Ill-conditioned matrix (rcond=2.37635e-17): result may not be accurate.\n",
      "  overwrite_a=True).T\n",
      "/home/will/anaconda3/lib/python3.7/site-packages/sklearn/linear_model/ridge.py:112: LinAlgWarning: Ill-conditioned matrix (rcond=2.39188e-17): result may not be accurate.\n",
      "  overwrite_a=True).T\n",
      "/home/will/anaconda3/lib/python3.7/site-packages/sklearn/linear_model/ridge.py:112: LinAlgWarning: Ill-conditioned matrix (rcond=2.49887e-17): result may not be accurate.\n",
      "  overwrite_a=True).T\n",
      "/home/will/anaconda3/lib/python3.7/site-packages/sklearn/linear_model/ridge.py:112: LinAlgWarning: Ill-conditioned matrix (rcond=2.29084e-17): result may not be accurate.\n",
      "  overwrite_a=True).T\n",
      "/home/will/anaconda3/lib/python3.7/site-packages/sklearn/linear_model/ridge.py:112: LinAlgWarning: Ill-conditioned matrix (rcond=2.17977e-17): result may not be accurate.\n",
      "  overwrite_a=True).T\n",
      "/home/will/anaconda3/lib/python3.7/site-packages/sklearn/linear_model/ridge.py:112: LinAlgWarning: Ill-conditioned matrix (rcond=2.20947e-17): result may not be accurate.\n",
      "  overwrite_a=True).T\n",
      "/home/will/anaconda3/lib/python3.7/site-packages/sklearn/linear_model/ridge.py:112: LinAlgWarning: Ill-conditioned matrix (rcond=3.05009e-17): result may not be accurate.\n",
      "  overwrite_a=True).T\n",
      "/home/will/anaconda3/lib/python3.7/site-packages/sklearn/linear_model/ridge.py:112: LinAlgWarning: Ill-conditioned matrix (rcond=3.44793e-17): result may not be accurate.\n",
      "  overwrite_a=True).T\n",
      "/home/will/anaconda3/lib/python3.7/site-packages/sklearn/linear_model/ridge.py:112: LinAlgWarning: Ill-conditioned matrix (rcond=2.33402e-17): result may not be accurate.\n",
      "  overwrite_a=True).T\n",
      "/home/will/anaconda3/lib/python3.7/site-packages/sklearn/linear_model/ridge.py:112: LinAlgWarning: Ill-conditioned matrix (rcond=2.2633e-17): result may not be accurate.\n",
      "  overwrite_a=True).T\n",
      "/home/will/anaconda3/lib/python3.7/site-packages/sklearn/linear_model/ridge.py:112: LinAlgWarning: Ill-conditioned matrix (rcond=2.39092e-17): result may not be accurate.\n",
      "  overwrite_a=True).T\n",
      "/home/will/anaconda3/lib/python3.7/site-packages/sklearn/linear_model/ridge.py:112: LinAlgWarning: Ill-conditioned matrix (rcond=2.41427e-17): result may not be accurate.\n",
      "  overwrite_a=True).T\n",
      "/home/will/anaconda3/lib/python3.7/site-packages/sklearn/linear_model/ridge.py:112: LinAlgWarning: Ill-conditioned matrix (rcond=2.24992e-17): result may not be accurate.\n",
      "  overwrite_a=True).T\n",
      "/home/will/anaconda3/lib/python3.7/site-packages/sklearn/linear_model/ridge.py:112: LinAlgWarning: Ill-conditioned matrix (rcond=2.17691e-17): result may not be accurate.\n",
      "  overwrite_a=True).T\n",
      "/home/will/anaconda3/lib/python3.7/site-packages/sklearn/linear_model/ridge.py:112: LinAlgWarning: Ill-conditioned matrix (rcond=2.1664e-17): result may not be accurate.\n",
      "  overwrite_a=True).T\n",
      "/home/will/anaconda3/lib/python3.7/site-packages/sklearn/linear_model/ridge.py:112: LinAlgWarning: Ill-conditioned matrix (rcond=2.33456e-17): result may not be accurate.\n",
      "  overwrite_a=True).T\n",
      "/home/will/anaconda3/lib/python3.7/site-packages/sklearn/linear_model/ridge.py:112: LinAlgWarning: Ill-conditioned matrix (rcond=2.97383e-17): result may not be accurate.\n",
      "  overwrite_a=True).T\n",
      "/home/will/anaconda3/lib/python3.7/site-packages/sklearn/linear_model/ridge.py:112: LinAlgWarning: Ill-conditioned matrix (rcond=3.12714e-17): result may not be accurate.\n",
      "  overwrite_a=True).T\n"
     ]
    },
    {
     "name": "stdout",
     "output_type": "stream",
     "text": [
      "Lasso 10 mean val MAE: 3.6524165860720146\n",
      "Ridge 1e-06 mean val MAE: 2.4639678453455796\n",
      "Lasso 1e-06 mean val MAE: 3.2159184453649345\n",
      "Ridge 0.0001 mean val MAE: 2.463826649669186\n",
      "Lasso 0.0001 mean val MAE: 3.2155728789394002\n",
      "Ridge 0.01 mean val MAE: 2.463685032395633\n",
      "Lasso 0.01 mean val MAE: 3.2024864441590757\n",
      "Ridge 1 mean val MAE: 2.4567100677570948\n",
      "Lasso 1 mean val MAE: 3.167195661653577\n",
      "Ridge 10 mean val MAE: 2.448135028071205\n",
      "Lasso 10 mean val MAE: 3.185555323554331\n",
      "Ridge(alpha=10, copy_X=True, fit_intercept=True, max_iter=None,\n",
      "   normalize=False, random_state=None, solver='auto', tol=0.001) 2.448135028071205\n"
     ]
    }
   ],
   "source": [
    "# Vars to store results\n",
    "cval_errs = {} # Mean validation errors\n",
    "train_time = {} # Training time\n",
    "# Best Model\n",
    "best_l_regressor = None\n",
    "# Best Validation Error\n",
    "best_err = sys.maxsize\n",
    "\n",
    "\n",
    "for K in KS:\n",
    "    for a in ALPHAS:\n",
    "        for regor in [linear_model.Ridge, linear_model.Lasso]:\n",
    "            kf = KFold(n_splits=K, random_state=None, shuffle=False)\n",
    "            y_err = []\n",
    "\n",
    "            start = time.time()\n",
    "\n",
    "            # Cross Validaiton\n",
    "            for train_index, val_index in kf.split(train_x):\n",
    "            #     print(\"TRAIN:\", train_index, \"VAL:\", val_index)\n",
    "                X_train, X_val = train_x[train_index], train_x[val_index]\n",
    "                y_train, y_val = train_y[train_index], train_y[val_index]\n",
    "\n",
    "                LRegressor = regor(alpha=a)\n",
    "                y_hat = LRegressor.fit(X_train, y_train).predict(X_val)\n",
    "            #     print(y_hat)\n",
    "                y_err.append(compute_error(y_hat, y_val))\n",
    "\n",
    "            end = time.time()\n",
    "\n",
    "            print(str(regor.__name__), str(a), \"mean val MAE:\", np.mean(y_err))\n",
    "#             print(\"Time lapsed\", str((end - start)*1000))\n",
    "\n",
    "            # add to dict\n",
    "            cval_errs[regor.__name__+str(a)] = np.mean(y_err)\n",
    "            train_time[regor.__name__+str(a)] = (end - start)*1000\n",
    "            if np.mean(y_err) < best_err:\n",
    "                best_af_l_regressor = regor(alpha=a)\n",
    "                best_k = K\n",
    "                best_err = np.mean(y_err)\n",
    "                best_errs = y_err\n",
    "                \n",
    "print(best_af_l_regressor, best_err)"
   ]
  },
  {
   "cell_type": "markdown",
   "metadata": {},
   "source": [
    "# Test"
   ]
  },
  {
   "cell_type": "code",
   "execution_count": 60,
   "metadata": {},
   "outputs": [],
   "source": [
    "best_af_l_regressor = best_af_l_regressor.fit(train_x, train_y)"
   ]
  },
  {
   "cell_type": "code",
   "execution_count": 61,
   "metadata": {},
   "outputs": [],
   "source": [
    "y_hat = best_af_l_regressor.predict(test_x)"
   ]
  },
  {
   "cell_type": "code",
   "execution_count": 62,
   "metadata": {},
   "outputs": [
    {
     "data": {
      "image/png": "[encoded data removed]",
      "text/plain": [
       "<Figure size 1440x720 with 1 Axes>"
      ]
     },
     "metadata": {
      "needs_background": "light"
     },
     "output_type": "display_data"
    }
   ],
   "source": [
    "plt.plot(y_hat, label=\"estmated\")\n",
    "plt.plot(test_y, label=\"real\")\n",
    "plt.legend(bbox_to_anchor=(0., 1.02, 1., .102), loc='lower left',\n",
    "           ncol=2, mode=\"expand\", borderaxespad=0.)\n",
    "plt.show()"
   ]
  },
  {
   "cell_type": "markdown",
   "metadata": {},
   "source": [
    "# Test Error"
   ]
  },
  {
   "cell_type": "code",
   "execution_count": 63,
   "metadata": {
    "scrolled": true
   },
   "outputs": [
    {
     "data": {
      "text/plain": [
       "3.708580885990723"
      ]
     },
     "execution_count": 63,
     "metadata": {},
     "output_type": "execute_result"
    }
   ],
   "source": [
    "compute_error(y_hat, test_y)"
   ]
  },
  {
   "cell_type": "code",
   "execution_count": 7,
   "metadata": {},
   "outputs": [],
   "source": [
    "# Load Feature 4 GBBEF Exchange coefficient"
   ]
  },
  {
   "cell_type": "code",
   "execution_count": null,
   "metadata": {},
   "outputs": [],
   "source": []
  }
 ],
 "metadata": {
  "kernelspec": {
   "display_name": "Python 3",
   "language": "python",
   "name": "python3"
  },
  "language_info": {
   "codemirror_mode": {
    "name": "ipython",
    "version": 3
   },
   "file_extension": ".py",
   "mimetype": "text/x-python",
   "name": "python",
   "nbconvert_exporter": "python",
   "pygments_lexer": "ipython3",
   "version": "3.7.9"
  }
 },
 "nbformat": 4,
 "nbformat_minor": 2
}
